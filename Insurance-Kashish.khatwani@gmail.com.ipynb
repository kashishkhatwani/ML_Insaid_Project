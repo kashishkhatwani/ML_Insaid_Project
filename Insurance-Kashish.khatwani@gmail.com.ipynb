{
 "cells": [
  {
   "cell_type": "code",
   "execution_count": null,
   "metadata": {},
   "outputs": [],
   "source": []
  },
  {
   "cell_type": "markdown",
   "metadata": {},
   "source": [
    "<body style=\"background-color:blue;\">\n",
    "    \n",
    " <center><img src=\"https://github.com/insaid2018/Term-1/blob/master/Images/INSAID_Full%20Logo.png?raw=true\" width=\"240\" height=\"120\" /></center>\n",
    "Life Insurance Classification - Machine Learning Foundation \n",
    "\n",
    "<p align=\"center\"><img src=\"https://visme.co/blog/wp-content/uploads/2020/06/animated-interactive-infographics-header-wide.gif\"></p>"
   ]
  },
  {
   "cell_type": "markdown",
   "metadata": {},
   "source": [
    "<h2> Table of Contents </h2>\n",
    "\n",
    "\n",
    "1. [Introduction](#section1)<br>\n",
    "2. [Problem Statement](#section2)<br>\n",
    "3. [Data Loading and description](#section3)<br>\n",
    "4. [Exploratory Data Analysis](#section4)<br>\n",
    "5. [Machine Learing](#ml)\n",
    "    - 5.1 [Feature Engineering](#fe)<br>\n",
    "    - 5.2 [Approach 1 - Building models considering all columns](#appr1)<br>\n",
    "        - 5.2.1. [Model Evaluation](#model)<br>\n",
    "    - 5.3 [Approach 2 - Feature selection using co-relation with Target Variable ](#appr2)\n",
    "    - 5.4 [Approach 3 - Feature selection using VIF](#appr3) \n",
    "6. [Conclusion](#conclude)\n",
    "\n",
    "\n",
    "\n"
   ]
  },
  {
   "cell_type": "markdown",
   "metadata": {},
   "source": [
    "<a id=section1></a>\n",
    "# 1. Introduction\n",
    "\n",
    "In Machine Learning Foundation-1 term, following topics were covered \n",
    "\n",
    "1. Introduction to Machine Learning \n",
    "2. Linear Regression\n",
    "3. Logistic Regression\n",
    "4. Decision Tree\n",
    "5. Random Forest\n",
    "6. Model Evaluation Techniques \n",
    "\n",
    "Based on the learnings, I have worked on Insurance Risk Classification project which is multi-class classification. \n",
    "\n"
   ]
  },
  {
   "cell_type": "markdown",
   "metadata": {},
   "source": [
    "<a id=section2></a>\n",
    "# 2. Problem Statement"
   ]
  },
  {
   "cell_type": "markdown",
   "metadata": {},
   "source": [
    "Prudential, one of the largest issuers of life insurance in the USA, is hiring passionate data scientists to join a newly-formed Data Science group solving complex challenges and identifying opportunities. The results have been impressive so far but we want more. \n",
    "\n",
    "**The Challenge**\n",
    "In a one-click shopping world with on-demand everything, the life insurance application process is antiquated. Customers provide extensive information to identify risk classification and eligibility, including scheduling medical exams, a process that takes an average of 30 days.\n",
    "\n",
    "**The result** \n",
    "People are turned off. That’s why only 40% of U.S. households own individual life insurance. Prudential wants to make it quicker and less labor intensive for new and existing customers to get a quote while maintaining privacy boundaries.\n",
    "\n",
    "**Objective of this ML model**\n",
    "By developing a predictive model that accurately classifies risk using a more automated approach, you can greatly impact public perception of the industry.\n",
    "The results will help Prudential better understand the predictive power of the data points in the existing assessment, enabling us to significantly streamline the process."
   ]
  },
  {
   "cell_type": "markdown",
   "metadata": {},
   "source": [
    "<a id=section3></a>\n",
    "# 3. Data Loading and Description"
   ]
  },
  {
   "cell_type": "markdown",
   "metadata": {},
   "source": [
    "<h4>Importing Packages</h4>"
   ]
  },
  {
   "cell_type": "code",
   "execution_count": 1,
   "metadata": {},
   "outputs": [],
   "source": [
    "import pandas as pd\n",
    "import seaborn as sns\n",
    "import matplotlib.pyplot as plt\n",
    "\n",
    "\n",
    "from sklearn import metrics\n",
    "\n",
    "import numpy as np\n",
    "\n",
    "# allow plots to appear directly in the notebook\n",
    "%matplotlib inline\n",
    "\n",
    "import warnings\n",
    "warnings.filterwarnings('ignore')                   # To suppress all the warnings in the notebook.\n",
    "\n",
    "# ------------------------------------------------------"
   ]
  },
  {
   "cell_type": "markdown",
   "metadata": {},
   "source": [
    "<h4>Data Loading</h4>"
   ]
  },
  {
   "cell_type": "code",
   "execution_count": 2,
   "metadata": {},
   "outputs": [
    {
     "data": {
      "text/html": [
       "<div>\n",
       "<style scoped>\n",
       "    .dataframe tbody tr th:only-of-type {\n",
       "        vertical-align: middle;\n",
       "    }\n",
       "\n",
       "    .dataframe tbody tr th {\n",
       "        vertical-align: top;\n",
       "    }\n",
       "\n",
       "    .dataframe thead th {\n",
       "        text-align: right;\n",
       "    }\n",
       "</style>\n",
       "<table border=\"1\" class=\"dataframe\">\n",
       "  <thead>\n",
       "    <tr style=\"text-align: right;\">\n",
       "      <th></th>\n",
       "      <th>Id</th>\n",
       "      <th>Product_Info_1</th>\n",
       "      <th>Product_Info_2</th>\n",
       "      <th>Product_Info_3</th>\n",
       "      <th>Product_Info_4</th>\n",
       "      <th>Product_Info_5</th>\n",
       "      <th>Product_Info_6</th>\n",
       "      <th>Product_Info_7</th>\n",
       "      <th>Ins_Age</th>\n",
       "      <th>Ht</th>\n",
       "      <th>...</th>\n",
       "      <th>Medical_Keyword_40</th>\n",
       "      <th>Medical_Keyword_41</th>\n",
       "      <th>Medical_Keyword_42</th>\n",
       "      <th>Medical_Keyword_43</th>\n",
       "      <th>Medical_Keyword_44</th>\n",
       "      <th>Medical_Keyword_45</th>\n",
       "      <th>Medical_Keyword_46</th>\n",
       "      <th>Medical_Keyword_47</th>\n",
       "      <th>Medical_Keyword_48</th>\n",
       "      <th>Response</th>\n",
       "    </tr>\n",
       "  </thead>\n",
       "  <tbody>\n",
       "    <tr>\n",
       "      <th>0</th>\n",
       "      <td>2</td>\n",
       "      <td>1</td>\n",
       "      <td>D3</td>\n",
       "      <td>10</td>\n",
       "      <td>0.076923</td>\n",
       "      <td>2</td>\n",
       "      <td>1</td>\n",
       "      <td>1</td>\n",
       "      <td>0.641791</td>\n",
       "      <td>0.581818</td>\n",
       "      <td>...</td>\n",
       "      <td>0</td>\n",
       "      <td>0</td>\n",
       "      <td>0</td>\n",
       "      <td>0</td>\n",
       "      <td>0</td>\n",
       "      <td>0</td>\n",
       "      <td>0</td>\n",
       "      <td>0</td>\n",
       "      <td>0</td>\n",
       "      <td>8</td>\n",
       "    </tr>\n",
       "    <tr>\n",
       "      <th>1</th>\n",
       "      <td>5</td>\n",
       "      <td>1</td>\n",
       "      <td>A1</td>\n",
       "      <td>26</td>\n",
       "      <td>0.076923</td>\n",
       "      <td>2</td>\n",
       "      <td>3</td>\n",
       "      <td>1</td>\n",
       "      <td>0.059701</td>\n",
       "      <td>0.600000</td>\n",
       "      <td>...</td>\n",
       "      <td>0</td>\n",
       "      <td>0</td>\n",
       "      <td>0</td>\n",
       "      <td>0</td>\n",
       "      <td>0</td>\n",
       "      <td>0</td>\n",
       "      <td>0</td>\n",
       "      <td>0</td>\n",
       "      <td>0</td>\n",
       "      <td>4</td>\n",
       "    </tr>\n",
       "    <tr>\n",
       "      <th>2</th>\n",
       "      <td>6</td>\n",
       "      <td>1</td>\n",
       "      <td>E1</td>\n",
       "      <td>26</td>\n",
       "      <td>0.076923</td>\n",
       "      <td>2</td>\n",
       "      <td>3</td>\n",
       "      <td>1</td>\n",
       "      <td>0.029851</td>\n",
       "      <td>0.745455</td>\n",
       "      <td>...</td>\n",
       "      <td>0</td>\n",
       "      <td>0</td>\n",
       "      <td>0</td>\n",
       "      <td>0</td>\n",
       "      <td>0</td>\n",
       "      <td>0</td>\n",
       "      <td>0</td>\n",
       "      <td>0</td>\n",
       "      <td>0</td>\n",
       "      <td>8</td>\n",
       "    </tr>\n",
       "    <tr>\n",
       "      <th>3</th>\n",
       "      <td>7</td>\n",
       "      <td>1</td>\n",
       "      <td>D4</td>\n",
       "      <td>10</td>\n",
       "      <td>0.487179</td>\n",
       "      <td>2</td>\n",
       "      <td>3</td>\n",
       "      <td>1</td>\n",
       "      <td>0.164179</td>\n",
       "      <td>0.672727</td>\n",
       "      <td>...</td>\n",
       "      <td>0</td>\n",
       "      <td>0</td>\n",
       "      <td>0</td>\n",
       "      <td>0</td>\n",
       "      <td>0</td>\n",
       "      <td>0</td>\n",
       "      <td>0</td>\n",
       "      <td>0</td>\n",
       "      <td>0</td>\n",
       "      <td>8</td>\n",
       "    </tr>\n",
       "    <tr>\n",
       "      <th>4</th>\n",
       "      <td>8</td>\n",
       "      <td>1</td>\n",
       "      <td>D2</td>\n",
       "      <td>26</td>\n",
       "      <td>0.230769</td>\n",
       "      <td>2</td>\n",
       "      <td>3</td>\n",
       "      <td>1</td>\n",
       "      <td>0.417910</td>\n",
       "      <td>0.654545</td>\n",
       "      <td>...</td>\n",
       "      <td>0</td>\n",
       "      <td>0</td>\n",
       "      <td>0</td>\n",
       "      <td>0</td>\n",
       "      <td>0</td>\n",
       "      <td>0</td>\n",
       "      <td>0</td>\n",
       "      <td>0</td>\n",
       "      <td>0</td>\n",
       "      <td>8</td>\n",
       "    </tr>\n",
       "  </tbody>\n",
       "</table>\n",
       "<p>5 rows × 128 columns</p>\n",
       "</div>"
      ],
      "text/plain": [
       "   Id  Product_Info_1 Product_Info_2  Product_Info_3  Product_Info_4  \\\n",
       "0   2               1             D3              10        0.076923   \n",
       "1   5               1             A1              26        0.076923   \n",
       "2   6               1             E1              26        0.076923   \n",
       "3   7               1             D4              10        0.487179   \n",
       "4   8               1             D2              26        0.230769   \n",
       "\n",
       "   Product_Info_5  Product_Info_6  Product_Info_7   Ins_Age        Ht  ...  \\\n",
       "0               2               1               1  0.641791  0.581818  ...   \n",
       "1               2               3               1  0.059701  0.600000  ...   \n",
       "2               2               3               1  0.029851  0.745455  ...   \n",
       "3               2               3               1  0.164179  0.672727  ...   \n",
       "4               2               3               1  0.417910  0.654545  ...   \n",
       "\n",
       "   Medical_Keyword_40  Medical_Keyword_41  Medical_Keyword_42  \\\n",
       "0                   0                   0                   0   \n",
       "1                   0                   0                   0   \n",
       "2                   0                   0                   0   \n",
       "3                   0                   0                   0   \n",
       "4                   0                   0                   0   \n",
       "\n",
       "   Medical_Keyword_43  Medical_Keyword_44  Medical_Keyword_45  \\\n",
       "0                   0                   0                   0   \n",
       "1                   0                   0                   0   \n",
       "2                   0                   0                   0   \n",
       "3                   0                   0                   0   \n",
       "4                   0                   0                   0   \n",
       "\n",
       "   Medical_Keyword_46  Medical_Keyword_47  Medical_Keyword_48  Response  \n",
       "0                   0                   0                   0         8  \n",
       "1                   0                   0                   0         4  \n",
       "2                   0                   0                   0         8  \n",
       "3                   0                   0                   0         8  \n",
       "4                   0                   0                   0         8  \n",
       "\n",
       "[5 rows x 128 columns]"
      ]
     },
     "execution_count": 2,
     "metadata": {},
     "output_type": "execute_result"
    }
   ],
   "source": [
    "data = pd.read_csv('https://raw.githubusercontent.com/insaid2018/Term-2/master/Projects/insurance_data.csv',error_bad_lines=False )\n",
    "data.head()"
   ]
  },
  {
   "cell_type": "markdown",
   "metadata": {},
   "source": [
    "In this dataset, there are 127 variables describing attributes of life insurance applicants. The task is to predict the \"Response\" variable for each Id in the test set. \"Response\" is an categorical measure of risk that has 8 levels."
   ]
  },
  {
   "cell_type": "code",
   "execution_count": 3,
   "metadata": {},
   "outputs": [
    {
     "data": {
      "text/plain": [
       "Index(['Id', 'Product_Info_1', 'Product_Info_2', 'Product_Info_3',\n",
       "       'Product_Info_4', 'Product_Info_5', 'Product_Info_6', 'Product_Info_7',\n",
       "       'Ins_Age', 'Ht',\n",
       "       ...\n",
       "       'Medical_Keyword_40', 'Medical_Keyword_41', 'Medical_Keyword_42',\n",
       "       'Medical_Keyword_43', 'Medical_Keyword_44', 'Medical_Keyword_45',\n",
       "       'Medical_Keyword_46', 'Medical_Keyword_47', 'Medical_Keyword_48',\n",
       "       'Response'],\n",
       "      dtype='object', length=128)"
      ]
     },
     "execution_count": 3,
     "metadata": {},
     "output_type": "execute_result"
    }
   ],
   "source": [
    "data.columns"
   ]
  },
  {
   "cell_type": "markdown",
   "metadata": {},
   "source": [
    "<h4>Data Description</h4>"
   ]
  },
  {
   "cell_type": "markdown",
   "metadata": {},
   "source": [
    " \n",
    "<table width=\"800px\" align=\"center\" cellspacing=\"5px\"  style=\" border: 1px solid black; text-align: right\">\n",
    "    <tr>\n",
    "        <th style=\"text-align:center; border: 1px solid black\">Variable</th>\n",
    "        <th style=\"text-align:center; border: 1px solid black\"> Description</th>\n",
    "    </tr>\n",
    "    <tr>\n",
    "        <td style=\"text-align:left; border: 1px solid black\">Id</td>\n",
    "        <td style=\"text-align:left; border: 1px solid black\">A unique identifier associated with an application.</td>\n",
    "    </tr>\n",
    "    <tr>\n",
    "        <td style=\"text-align:left; border: 1px solid black\">Product_Info_1-7</td>\n",
    "        <td style=\"text-align:left; border: 1px solid black\">A set of normalized variables relating to the product applied for</td>\n",
    "    </tr>\n",
    "    <tr>\n",
    "        <td style=\"text-align:left; border: 1px solid black\">Ins_Age</td>\n",
    "        <td style=\"text-align:left; border: 1px solid black\">Normalized age of applicant</td>\n",
    "    </tr>\n",
    "    <tr>\n",
    "        <td style=\"text-align:left; border: 1px solid black\">Ht</td>\n",
    "        <td style=\"text-align:left; border: 1px solid black\">Normalized height of applicant</td>\n",
    "    </tr>\n",
    "    <tr>\n",
    "        <td style=\"text-align:left; border: 1px solid black\">Wt</td>\n",
    "        <td style=\"text-align:left; border: 1px solid black\">Normalized weight of applicant.</td>\n",
    "    </tr>\n",
    "    <tr>\n",
    "        <td style=\"text-align:left; border: 1px solid black\">BMI</td>\n",
    "        <td style=\"text-align:left; border: 1px solid black\">Normalized BMI of applicant</td>\n",
    "    </tr>\n",
    "    <tr>\n",
    "        <td style=\"text-align:left; border: 1px solid black\">Employment_Info_1-6</td>\n",
    "        <td style=\"text-align:left; border: 1px solid black\">A set of normalized variables relating to the employment history of the applicant.</td>\n",
    "    </tr>\n",
    "    <tr>\n",
    "        <td style=\"text-align:left; border: 1px solid black\">InsuredInfo_1-6</td>\n",
    "        <td style=\"text-align:left; border: 1px solid black\">A set of normalized variables providing information about the applicant.</td>\n",
    "    </tr>\n",
    "     <tr>\n",
    "        <td style=\"text-align:left; border: 1px solid black\">Insurance_History_1-9</td>\n",
    "        <td style=\"text-align:left; border: 1px solid black\">A set of normalized variables relating to the insurance history of the applicant.</td>\n",
    "    </tr>\n",
    "     <tr>\n",
    "        <td style=\"text-align:left; border: 1px solid black\">Family_Hist_1-5</td>\n",
    "        <td style=\"text-align:left; border: 1px solid black\">A set of normalized variables relating to the family history of the applicant.</td>\n",
    "    </tr>\n",
    "     <tr>\n",
    "        <td style=\"text-align:left; border: 1px solid black\">Medical_History_1-41</td>\n",
    "        <td style=\"text-align:left; border: 1px solid black\">A set of normalized variables relating to the medical history of the applicant.</td>\n",
    "    </tr>\n",
    "      <tr>\n",
    "        <td style=\"text-align:left; border: 1px solid black\">Medical_Keyword_1-48</td>\n",
    "        <td style=\"text-align:left; border: 1px solid black\">A set of dummy variables relating to the presence of/absence of a medical keyword being associated with the application.</td>\n",
    "    </tr>\n",
    "      <tr>\n",
    "        <td style=\"text-align:left; border: 1px solid black\">Response</td>\n",
    "        <td style=\"text-align:left; border: 1px solid black\">This is the target variable, an ordinal variable relating to the final decision associated with an application</td>\n",
    "    </tr>\n",
    "    \n",
    "   </table>"
   ]
  },
  {
   "cell_type": "markdown",
   "metadata": {},
   "source": [
    "<a id=section4></a>\n",
    "# 4. Exploratory Data Analysis"
   ]
  },
  {
   "cell_type": "code",
   "execution_count": 4,
   "metadata": {},
   "outputs": [
    {
     "data": {
      "text/plain": [
       "(59381, 128)"
      ]
     },
     "execution_count": 4,
     "metadata": {},
     "output_type": "execute_result"
    }
   ],
   "source": [
    "data.shape"
   ]
  },
  {
   "cell_type": "code",
   "execution_count": 5,
   "metadata": {},
   "outputs": [
    {
     "name": "stdout",
     "output_type": "stream",
     "text": [
      "<class 'pandas.core.frame.DataFrame'>\n",
      "RangeIndex: 59381 entries, 0 to 59380\n",
      "Columns: 128 entries, Id to Response\n",
      "dtypes: float64(18), int64(109), object(1)\n",
      "memory usage: 58.0+ MB\n"
     ]
    }
   ],
   "source": [
    "data.info()"
   ]
  },
  {
   "cell_type": "code",
   "execution_count": 6,
   "metadata": {},
   "outputs": [
    {
     "data": {
      "text/html": [
       "<div>\n",
       "<style scoped>\n",
       "    .dataframe tbody tr th:only-of-type {\n",
       "        vertical-align: middle;\n",
       "    }\n",
       "\n",
       "    .dataframe tbody tr th {\n",
       "        vertical-align: top;\n",
       "    }\n",
       "\n",
       "    .dataframe thead th {\n",
       "        text-align: right;\n",
       "    }\n",
       "</style>\n",
       "<table border=\"1\" class=\"dataframe\">\n",
       "  <thead>\n",
       "    <tr style=\"text-align: right;\">\n",
       "      <th></th>\n",
       "      <th>Id</th>\n",
       "      <th>Product_Info_1</th>\n",
       "      <th>Product_Info_3</th>\n",
       "      <th>Product_Info_4</th>\n",
       "      <th>Product_Info_5</th>\n",
       "      <th>Product_Info_6</th>\n",
       "      <th>Product_Info_7</th>\n",
       "      <th>Ins_Age</th>\n",
       "      <th>Ht</th>\n",
       "      <th>Wt</th>\n",
       "      <th>...</th>\n",
       "      <th>Medical_Keyword_40</th>\n",
       "      <th>Medical_Keyword_41</th>\n",
       "      <th>Medical_Keyword_42</th>\n",
       "      <th>Medical_Keyword_43</th>\n",
       "      <th>Medical_Keyword_44</th>\n",
       "      <th>Medical_Keyword_45</th>\n",
       "      <th>Medical_Keyword_46</th>\n",
       "      <th>Medical_Keyword_47</th>\n",
       "      <th>Medical_Keyword_48</th>\n",
       "      <th>Response</th>\n",
       "    </tr>\n",
       "  </thead>\n",
       "  <tbody>\n",
       "    <tr>\n",
       "      <th>count</th>\n",
       "      <td>59381.000000</td>\n",
       "      <td>59381.000000</td>\n",
       "      <td>59381.000000</td>\n",
       "      <td>59381.000000</td>\n",
       "      <td>59381.000000</td>\n",
       "      <td>59381.000000</td>\n",
       "      <td>59381.000000</td>\n",
       "      <td>59381.000000</td>\n",
       "      <td>59381.000000</td>\n",
       "      <td>59381.000000</td>\n",
       "      <td>...</td>\n",
       "      <td>59381.000000</td>\n",
       "      <td>59381.000000</td>\n",
       "      <td>59381.000000</td>\n",
       "      <td>59381.000000</td>\n",
       "      <td>59381.000000</td>\n",
       "      <td>59381.000000</td>\n",
       "      <td>59381.000000</td>\n",
       "      <td>59381.000000</td>\n",
       "      <td>59381.000000</td>\n",
       "      <td>59381.000000</td>\n",
       "    </tr>\n",
       "    <tr>\n",
       "      <th>mean</th>\n",
       "      <td>39507.211515</td>\n",
       "      <td>1.026355</td>\n",
       "      <td>24.415655</td>\n",
       "      <td>0.328952</td>\n",
       "      <td>2.006955</td>\n",
       "      <td>2.673599</td>\n",
       "      <td>1.043583</td>\n",
       "      <td>0.405567</td>\n",
       "      <td>0.707283</td>\n",
       "      <td>0.292587</td>\n",
       "      <td>...</td>\n",
       "      <td>0.056954</td>\n",
       "      <td>0.010054</td>\n",
       "      <td>0.045536</td>\n",
       "      <td>0.010710</td>\n",
       "      <td>0.007528</td>\n",
       "      <td>0.013691</td>\n",
       "      <td>0.008488</td>\n",
       "      <td>0.019905</td>\n",
       "      <td>0.054496</td>\n",
       "      <td>5.636837</td>\n",
       "    </tr>\n",
       "    <tr>\n",
       "      <th>std</th>\n",
       "      <td>22815.883089</td>\n",
       "      <td>0.160191</td>\n",
       "      <td>5.072885</td>\n",
       "      <td>0.282562</td>\n",
       "      <td>0.083107</td>\n",
       "      <td>0.739103</td>\n",
       "      <td>0.291949</td>\n",
       "      <td>0.197190</td>\n",
       "      <td>0.074239</td>\n",
       "      <td>0.089037</td>\n",
       "      <td>...</td>\n",
       "      <td>0.231757</td>\n",
       "      <td>0.099764</td>\n",
       "      <td>0.208479</td>\n",
       "      <td>0.102937</td>\n",
       "      <td>0.086436</td>\n",
       "      <td>0.116207</td>\n",
       "      <td>0.091737</td>\n",
       "      <td>0.139676</td>\n",
       "      <td>0.226995</td>\n",
       "      <td>2.456833</td>\n",
       "    </tr>\n",
       "    <tr>\n",
       "      <th>min</th>\n",
       "      <td>2.000000</td>\n",
       "      <td>1.000000</td>\n",
       "      <td>1.000000</td>\n",
       "      <td>0.000000</td>\n",
       "      <td>2.000000</td>\n",
       "      <td>1.000000</td>\n",
       "      <td>1.000000</td>\n",
       "      <td>0.000000</td>\n",
       "      <td>0.000000</td>\n",
       "      <td>0.000000</td>\n",
       "      <td>...</td>\n",
       "      <td>0.000000</td>\n",
       "      <td>0.000000</td>\n",
       "      <td>0.000000</td>\n",
       "      <td>0.000000</td>\n",
       "      <td>0.000000</td>\n",
       "      <td>0.000000</td>\n",
       "      <td>0.000000</td>\n",
       "      <td>0.000000</td>\n",
       "      <td>0.000000</td>\n",
       "      <td>1.000000</td>\n",
       "    </tr>\n",
       "    <tr>\n",
       "      <th>25%</th>\n",
       "      <td>19780.000000</td>\n",
       "      <td>1.000000</td>\n",
       "      <td>26.000000</td>\n",
       "      <td>0.076923</td>\n",
       "      <td>2.000000</td>\n",
       "      <td>3.000000</td>\n",
       "      <td>1.000000</td>\n",
       "      <td>0.238806</td>\n",
       "      <td>0.654545</td>\n",
       "      <td>0.225941</td>\n",
       "      <td>...</td>\n",
       "      <td>0.000000</td>\n",
       "      <td>0.000000</td>\n",
       "      <td>0.000000</td>\n",
       "      <td>0.000000</td>\n",
       "      <td>0.000000</td>\n",
       "      <td>0.000000</td>\n",
       "      <td>0.000000</td>\n",
       "      <td>0.000000</td>\n",
       "      <td>0.000000</td>\n",
       "      <td>4.000000</td>\n",
       "    </tr>\n",
       "    <tr>\n",
       "      <th>50%</th>\n",
       "      <td>39487.000000</td>\n",
       "      <td>1.000000</td>\n",
       "      <td>26.000000</td>\n",
       "      <td>0.230769</td>\n",
       "      <td>2.000000</td>\n",
       "      <td>3.000000</td>\n",
       "      <td>1.000000</td>\n",
       "      <td>0.402985</td>\n",
       "      <td>0.709091</td>\n",
       "      <td>0.288703</td>\n",
       "      <td>...</td>\n",
       "      <td>0.000000</td>\n",
       "      <td>0.000000</td>\n",
       "      <td>0.000000</td>\n",
       "      <td>0.000000</td>\n",
       "      <td>0.000000</td>\n",
       "      <td>0.000000</td>\n",
       "      <td>0.000000</td>\n",
       "      <td>0.000000</td>\n",
       "      <td>0.000000</td>\n",
       "      <td>6.000000</td>\n",
       "    </tr>\n",
       "    <tr>\n",
       "      <th>75%</th>\n",
       "      <td>59211.000000</td>\n",
       "      <td>1.000000</td>\n",
       "      <td>26.000000</td>\n",
       "      <td>0.487179</td>\n",
       "      <td>2.000000</td>\n",
       "      <td>3.000000</td>\n",
       "      <td>1.000000</td>\n",
       "      <td>0.567164</td>\n",
       "      <td>0.763636</td>\n",
       "      <td>0.345188</td>\n",
       "      <td>...</td>\n",
       "      <td>0.000000</td>\n",
       "      <td>0.000000</td>\n",
       "      <td>0.000000</td>\n",
       "      <td>0.000000</td>\n",
       "      <td>0.000000</td>\n",
       "      <td>0.000000</td>\n",
       "      <td>0.000000</td>\n",
       "      <td>0.000000</td>\n",
       "      <td>0.000000</td>\n",
       "      <td>8.000000</td>\n",
       "    </tr>\n",
       "    <tr>\n",
       "      <th>max</th>\n",
       "      <td>79146.000000</td>\n",
       "      <td>2.000000</td>\n",
       "      <td>38.000000</td>\n",
       "      <td>1.000000</td>\n",
       "      <td>3.000000</td>\n",
       "      <td>3.000000</td>\n",
       "      <td>3.000000</td>\n",
       "      <td>1.000000</td>\n",
       "      <td>1.000000</td>\n",
       "      <td>1.000000</td>\n",
       "      <td>...</td>\n",
       "      <td>1.000000</td>\n",
       "      <td>1.000000</td>\n",
       "      <td>1.000000</td>\n",
       "      <td>1.000000</td>\n",
       "      <td>1.000000</td>\n",
       "      <td>1.000000</td>\n",
       "      <td>1.000000</td>\n",
       "      <td>1.000000</td>\n",
       "      <td>1.000000</td>\n",
       "      <td>8.000000</td>\n",
       "    </tr>\n",
       "  </tbody>\n",
       "</table>\n",
       "<p>8 rows × 127 columns</p>\n",
       "</div>"
      ],
      "text/plain": [
       "                 Id  Product_Info_1  Product_Info_3  Product_Info_4  \\\n",
       "count  59381.000000    59381.000000    59381.000000    59381.000000   \n",
       "mean   39507.211515        1.026355       24.415655        0.328952   \n",
       "std    22815.883089        0.160191        5.072885        0.282562   \n",
       "min        2.000000        1.000000        1.000000        0.000000   \n",
       "25%    19780.000000        1.000000       26.000000        0.076923   \n",
       "50%    39487.000000        1.000000       26.000000        0.230769   \n",
       "75%    59211.000000        1.000000       26.000000        0.487179   \n",
       "max    79146.000000        2.000000       38.000000        1.000000   \n",
       "\n",
       "       Product_Info_5  Product_Info_6  Product_Info_7       Ins_Age  \\\n",
       "count    59381.000000    59381.000000    59381.000000  59381.000000   \n",
       "mean         2.006955        2.673599        1.043583      0.405567   \n",
       "std          0.083107        0.739103        0.291949      0.197190   \n",
       "min          2.000000        1.000000        1.000000      0.000000   \n",
       "25%          2.000000        3.000000        1.000000      0.238806   \n",
       "50%          2.000000        3.000000        1.000000      0.402985   \n",
       "75%          2.000000        3.000000        1.000000      0.567164   \n",
       "max          3.000000        3.000000        3.000000      1.000000   \n",
       "\n",
       "                 Ht            Wt  ...  Medical_Keyword_40  \\\n",
       "count  59381.000000  59381.000000  ...        59381.000000   \n",
       "mean       0.707283      0.292587  ...            0.056954   \n",
       "std        0.074239      0.089037  ...            0.231757   \n",
       "min        0.000000      0.000000  ...            0.000000   \n",
       "25%        0.654545      0.225941  ...            0.000000   \n",
       "50%        0.709091      0.288703  ...            0.000000   \n",
       "75%        0.763636      0.345188  ...            0.000000   \n",
       "max        1.000000      1.000000  ...            1.000000   \n",
       "\n",
       "       Medical_Keyword_41  Medical_Keyword_42  Medical_Keyword_43  \\\n",
       "count        59381.000000        59381.000000        59381.000000   \n",
       "mean             0.010054            0.045536            0.010710   \n",
       "std              0.099764            0.208479            0.102937   \n",
       "min              0.000000            0.000000            0.000000   \n",
       "25%              0.000000            0.000000            0.000000   \n",
       "50%              0.000000            0.000000            0.000000   \n",
       "75%              0.000000            0.000000            0.000000   \n",
       "max              1.000000            1.000000            1.000000   \n",
       "\n",
       "       Medical_Keyword_44  Medical_Keyword_45  Medical_Keyword_46  \\\n",
       "count        59381.000000        59381.000000        59381.000000   \n",
       "mean             0.007528            0.013691            0.008488   \n",
       "std              0.086436            0.116207            0.091737   \n",
       "min              0.000000            0.000000            0.000000   \n",
       "25%              0.000000            0.000000            0.000000   \n",
       "50%              0.000000            0.000000            0.000000   \n",
       "75%              0.000000            0.000000            0.000000   \n",
       "max              1.000000            1.000000            1.000000   \n",
       "\n",
       "       Medical_Keyword_47  Medical_Keyword_48      Response  \n",
       "count        59381.000000        59381.000000  59381.000000  \n",
       "mean             0.019905            0.054496      5.636837  \n",
       "std              0.139676            0.226995      2.456833  \n",
       "min              0.000000            0.000000      1.000000  \n",
       "25%              0.000000            0.000000      4.000000  \n",
       "50%              0.000000            0.000000      6.000000  \n",
       "75%              0.000000            0.000000      8.000000  \n",
       "max              1.000000            1.000000      8.000000  \n",
       "\n",
       "[8 rows x 127 columns]"
      ]
     },
     "execution_count": 6,
     "metadata": {},
     "output_type": "execute_result"
    }
   ],
   "source": [
    "data.describe()"
   ]
  },
  {
   "cell_type": "markdown",
   "metadata": {},
   "source": [
    "**The following variables are all categorical (nominal):**\n",
    "\n",
    "Product_Info_1, Product_Info_2, Product_Info_3, Product_Info_5, Product_Info_6, Product_Info_7, Employment_Info_2, Employment_Info_3, Employment_Info_5, InsuredInfo_1, InsuredInfo_2, InsuredInfo_3, InsuredInfo_4, InsuredInfo_5, InsuredInfo_6, InsuredInfo_7, Insurance_History_1, Insurance_History_2, Insurance_History_3, Insurance_History_4, Insurance_History_7, Insurance_History_8, Insurance_History_9, Family_Hist_1, Medical_History_2, Medical_History_3, Medical_History_4, Medical_History_5, Medical_History_6, Medical_History_7, Medical_History_8, Medical_History_9, Medical_History_11, Medical_History_12, Medical_History_13, Medical_History_14, Medical_History_16, Medical_History_17, Medical_History_18, Medical_History_19, Medical_History_20, Medical_History_21, Medical_History_22, Medical_History_23, Medical_History_25, Medical_History_26, Medical_History_27, Medical_History_28, Medical_History_29, Medical_History_30, Medical_History_31, Medical_History_33, Medical_History_34, Medical_History_35, Medical_History_36, Medical_History_37, Medical_History_38, Medical_History_39, Medical_History_40, Medical_History_41\n",
    "\n",
    "\n",
    "**The following variables are continuous:**\n",
    "\n",
    "Product_Info_4, Ins_Age, Ht, Wt, BMI, Employment_Info_1, Employment_Info_4, Employment_Info_6, Insurance_History_5, Family_Hist_2, Family_Hist_3, Family_Hist_4, Family_Hist_5\n",
    "\n",
    "**The following variables are discrete:**\n",
    "\n",
    "Medical_History_1, Medical_History_10, Medical_History_15, Medical_History_24, Medical_History_32\n",
    "\n",
    "**Medical_Keyword_1-48 are dummy variables (already encoded)**"
   ]
  },
  {
   "cell_type": "markdown",
   "metadata": {},
   "source": [
    "## Missing Value check "
   ]
  },
  {
   "cell_type": "code",
   "execution_count": 7,
   "metadata": {},
   "outputs": [
    {
     "name": "stdout",
     "output_type": "stream",
     "text": [
      "<class 'pandas.core.frame.DataFrame'>\n",
      "RangeIndex: 59381 entries, 0 to 59380\n",
      "Data columns (total 50 columns):\n",
      " #   Column               Non-Null Count  Dtype  \n",
      "---  ------               --------------  -----  \n",
      " 0   Id                   59381 non-null  int64  \n",
      " 1   Product_Info_1       59381 non-null  int64  \n",
      " 2   Product_Info_2       59381 non-null  object \n",
      " 3   Product_Info_3       59381 non-null  int64  \n",
      " 4   Product_Info_4       59381 non-null  float64\n",
      " 5   Product_Info_5       59381 non-null  int64  \n",
      " 6   Product_Info_6       59381 non-null  int64  \n",
      " 7   Product_Info_7       59381 non-null  int64  \n",
      " 8   Ins_Age              59381 non-null  float64\n",
      " 9   Ht                   59381 non-null  float64\n",
      " 10  Wt                   59381 non-null  float64\n",
      " 11  BMI                  59381 non-null  float64\n",
      " 12  Employment_Info_1    59362 non-null  float64\n",
      " 13  Employment_Info_2    59381 non-null  int64  \n",
      " 14  Employment_Info_3    59381 non-null  int64  \n",
      " 15  Employment_Info_4    52602 non-null  float64\n",
      " 16  Employment_Info_5    59381 non-null  int64  \n",
      " 17  Employment_Info_6    48527 non-null  float64\n",
      " 18  InsuredInfo_1        59381 non-null  int64  \n",
      " 19  InsuredInfo_2        59381 non-null  int64  \n",
      " 20  InsuredInfo_3        59381 non-null  int64  \n",
      " 21  InsuredInfo_4        59381 non-null  int64  \n",
      " 22  InsuredInfo_5        59381 non-null  int64  \n",
      " 23  InsuredInfo_6        59381 non-null  int64  \n",
      " 24  InsuredInfo_7        59381 non-null  int64  \n",
      " 25  Insurance_History_1  59381 non-null  int64  \n",
      " 26  Insurance_History_2  59381 non-null  int64  \n",
      " 27  Insurance_History_3  59381 non-null  int64  \n",
      " 28  Insurance_History_4  59381 non-null  int64  \n",
      " 29  Insurance_History_5  33985 non-null  float64\n",
      " 30  Insurance_History_7  59381 non-null  int64  \n",
      " 31  Insurance_History_8  59381 non-null  int64  \n",
      " 32  Insurance_History_9  59381 non-null  int64  \n",
      " 33  Family_Hist_1        59381 non-null  int64  \n",
      " 34  Family_Hist_2        30725 non-null  float64\n",
      " 35  Family_Hist_3        25140 non-null  float64\n",
      " 36  Family_Hist_4        40197 non-null  float64\n",
      " 37  Family_Hist_5        17570 non-null  float64\n",
      " 38  Medical_History_1    50492 non-null  float64\n",
      " 39  Medical_History_2    59381 non-null  int64  \n",
      " 40  Medical_History_3    59381 non-null  int64  \n",
      " 41  Medical_History_4    59381 non-null  int64  \n",
      " 42  Medical_History_5    59381 non-null  int64  \n",
      " 43  Medical_History_6    59381 non-null  int64  \n",
      " 44  Medical_History_7    59381 non-null  int64  \n",
      " 45  Medical_History_8    59381 non-null  int64  \n",
      " 46  Medical_History_9    59381 non-null  int64  \n",
      " 47  Medical_History_10   557 non-null    float64\n",
      " 48  Medical_History_11   59381 non-null  int64  \n",
      " 49  Medical_History_12   59381 non-null  int64  \n",
      "dtypes: float64(15), int64(34), object(1)\n",
      "memory usage: 22.7+ MB\n"
     ]
    }
   ],
   "source": [
    "data.iloc[:, : 50].info()"
   ]
  },
  {
   "cell_type": "code",
   "execution_count": 8,
   "metadata": {},
   "outputs": [
    {
     "data": {
      "text/plain": [
       "Employment_Info_1         19\n",
       "Employment_Info_4       6779\n",
       "Employment_Info_6      10854\n",
       "Insurance_History_5    25396\n",
       "Family_Hist_2          28656\n",
       "Family_Hist_3          34241\n",
       "Family_Hist_4          19184\n",
       "Family_Hist_5          41811\n",
       "Medical_History_1       8889\n",
       "Medical_History_10     58824\n",
       "Medical_History_15     44596\n",
       "Medical_History_24     55580\n",
       "Medical_History_32     58274\n",
       "dtype: int64"
      ]
     },
     "execution_count": 8,
     "metadata": {},
     "output_type": "execute_result"
    }
   ],
   "source": [
    "#Find out columns have missing values\n",
    "data.isnull().sum()[data.isnull().sum() !=0]"
   ]
  },
  {
   "cell_type": "code",
   "execution_count": 9,
   "metadata": {},
   "outputs": [
    {
     "data": {
      "text/plain": [
       "<matplotlib.axes._subplots.AxesSubplot at 0x1295bb520>"
      ]
     },
     "execution_count": 9,
     "metadata": {},
     "output_type": "execute_result"
    },
    {
     "data": {
      "image/png": "[encoded data removed]",
      "text/plain": [
       "<Figure size 720x576 with 1 Axes>"
      ]
     },
     "metadata": {
      "needs_background": "light"
     },
     "output_type": "display_data"
    }
   ],
   "source": [
    "#Plot the missing data \n",
    "missing= data.isnull().sum()[data.isnull().sum() !=0]\n",
    "missing=pd.DataFrame(missing.reset_index())\n",
    "missing.rename(columns={'index':'features',0:'missing_count'},inplace=True)\n",
    "missing['missing_count_percentage']=((missing['missing_count'])/59381)*100\n",
    "plt.figure(figsize=(10,8))\n",
    "sns.barplot(y=missing['features'],x=missing['missing_count_percentage'])\n"
   ]
  },
  {
   "cell_type": "markdown",
   "metadata": {},
   "source": [
    "\n",
    "    \n",
    "Missing Value Imputation for features which have less than 11000 missing values\n",
    "1. Employment_Info_1     ------    missing values: 19  ------  Continuous Variable\n",
    "2. Employment_Info_4   ------    missing values:6779  ------  Continuous Variable\n",
    "3. Employment_Info_6 ------    missing values:10854  ------  Continuous Variable\n",
    "4. Medical_History_1   ------   missing values: 8889 ------  Continuous Variable \n",
    "\n",
    "\n",
    "<b> For the remaining features, imputation might not be helpful as huge amount of data is missing, so will drop them \n",
    "    </b>"
   ]
  },
  {
   "cell_type": "code",
   "execution_count": 10,
   "metadata": {},
   "outputs": [
    {
     "name": "stdout",
     "output_type": "stream",
     "text": [
      "<class 'pandas.core.frame.DataFrame'>\n",
      "RangeIndex: 59381 entries, 0 to 59380\n",
      "Data columns (total 13 columns):\n",
      " #   Column               Non-Null Count  Dtype  \n",
      "---  ------               --------------  -----  \n",
      " 0   Employment_Info_1    59362 non-null  float64\n",
      " 1   Employment_Info_4    52602 non-null  float64\n",
      " 2   Employment_Info_6    48527 non-null  float64\n",
      " 3   Insurance_History_5  33985 non-null  float64\n",
      " 4   Family_Hist_2        30725 non-null  float64\n",
      " 5   Family_Hist_3        25140 non-null  float64\n",
      " 6   Family_Hist_4        40197 non-null  float64\n",
      " 7   Family_Hist_5        17570 non-null  float64\n",
      " 8   Medical_History_1    50492 non-null  float64\n",
      " 9   Medical_History_10   557 non-null    float64\n",
      " 10  Medical_History_15   14785 non-null  float64\n",
      " 11  Medical_History_24   3801 non-null   float64\n",
      " 12  Medical_History_32   1107 non-null   float64\n",
      "dtypes: float64(13)\n",
      "memory usage: 5.9 MB\n"
     ]
    }
   ],
   "source": [
    "data[missing['features']].info()"
   ]
  },
  {
   "cell_type": "markdown",
   "metadata": {},
   "source": [
    "<b> Imputing for Employment_info_1 </b>"
   ]
  },
  {
   "cell_type": "code",
   "execution_count": 11,
   "metadata": {},
   "outputs": [
    {
     "data": {
      "text/plain": [
       "<matplotlib.axes._subplots.AxesSubplot at 0x125b42640>"
      ]
     },
     "execution_count": 11,
     "metadata": {},
     "output_type": "execute_result"
    },
    {
     "data": {
      "image/png": "[encoded data removed]",
      "text/plain": [
       "<Figure size 432x288 with 1 Axes>"
      ]
     },
     "metadata": {
      "needs_background": "light"
     },
     "output_type": "display_data"
    }
   ],
   "source": [
    "# Step 1: Check spread of data before imputing missing values \n",
    "plt.plot(figsize=(15,10))\n",
    "sns.boxplot(data['Employment_Info_1'])\n"
   ]
  },
  {
   "cell_type": "markdown",
   "metadata": {},
   "source": [
    "**Employment_Info_1 seems to have lots of outliers - Median should be right to impute missing values**"
   ]
  },
  {
   "cell_type": "code",
   "execution_count": 12,
   "metadata": {},
   "outputs": [
    {
     "data": {
      "text/plain": [
       "19"
      ]
     },
     "execution_count": 12,
     "metadata": {},
     "output_type": "execute_result"
    }
   ],
   "source": [
    "data['Employment_Info_1'].isna().sum()"
   ]
  },
  {
   "cell_type": "code",
   "execution_count": 13,
   "metadata": {},
   "outputs": [
    {
     "data": {
      "text/plain": [
       "0.06"
      ]
     },
     "execution_count": 13,
     "metadata": {},
     "output_type": "execute_result"
    }
   ],
   "source": [
    "data['Employment_Info_1'].median()"
   ]
  },
  {
   "cell_type": "code",
   "execution_count": 14,
   "metadata": {},
   "outputs": [],
   "source": [
    "# Step 2: Replace using Median\n",
    "\n",
    "data['Employment_Info_1'].fillna(data['Employment_Info_1'].median(),inplace=True) \n",
    "# imputing with Meadian , as there are lots of Outliers \n"
   ]
  },
  {
   "cell_type": "code",
   "execution_count": 15,
   "metadata": {},
   "outputs": [
    {
     "data": {
      "text/plain": [
       "0"
      ]
     },
     "execution_count": 15,
     "metadata": {},
     "output_type": "execute_result"
    }
   ],
   "source": [
    "data['Employment_Info_1'].isna().sum()"
   ]
  },
  {
   "cell_type": "markdown",
   "metadata": {},
   "source": [
    "<b> Imputing for Employment_info_4 </b>"
   ]
  },
  {
   "cell_type": "code",
   "execution_count": 16,
   "metadata": {},
   "outputs": [
    {
     "data": {
      "text/plain": [
       "<matplotlib.axes._subplots.AxesSubplot at 0x128f7d130>"
      ]
     },
     "execution_count": 16,
     "metadata": {},
     "output_type": "execute_result"
    },
    {
     "data": {
      "image/png": "[encoded data removed]",
      "text/plain": [
       "<Figure size 432x288 with 1 Axes>"
      ]
     },
     "metadata": {
      "needs_background": "light"
     },
     "output_type": "display_data"
    }
   ],
   "source": [
    "# Step 1: Check spread of data before imputing missing values \n",
    "plt.plot(figsize=(15,10))\n",
    "sns.boxplot(data['Employment_Info_4'])\n"
   ]
  },
  {
   "cell_type": "markdown",
   "metadata": {},
   "source": [
    "**Employment_Info_4 seems to have lots of outliers - Median should be right to impute missing values**"
   ]
  },
  {
   "cell_type": "code",
   "execution_count": 17,
   "metadata": {},
   "outputs": [
    {
     "data": {
      "text/plain": [
       "6779"
      ]
     },
     "execution_count": 17,
     "metadata": {},
     "output_type": "execute_result"
    }
   ],
   "source": [
    "data['Employment_Info_4'].isna().sum()"
   ]
  },
  {
   "cell_type": "code",
   "execution_count": 18,
   "metadata": {},
   "outputs": [],
   "source": [
    "# Step 2: Replace using Median\n",
    "\n",
    "data['Employment_Info_4'].fillna(data['Employment_Info_4'].median(),inplace=True) \n",
    "# imputing with Meadian , as there are lots of Outliers \n"
   ]
  },
  {
   "cell_type": "code",
   "execution_count": 19,
   "metadata": {},
   "outputs": [
    {
     "data": {
      "text/plain": [
       "0"
      ]
     },
     "execution_count": 19,
     "metadata": {},
     "output_type": "execute_result"
    }
   ],
   "source": [
    "data['Employment_Info_4'].isna().sum()"
   ]
  },
  {
   "cell_type": "markdown",
   "metadata": {},
   "source": [
    "<b>Imputing for Employment_Info_6</b>"
   ]
  },
  {
   "cell_type": "code",
   "execution_count": 20,
   "metadata": {},
   "outputs": [
    {
     "data": {
      "text/plain": [
       "<matplotlib.axes._subplots.AxesSubplot at 0x12906be80>"
      ]
     },
     "execution_count": 20,
     "metadata": {},
     "output_type": "execute_result"
    },
    {
     "data": {
      "image/png": "[encoded data removed]",
      "text/plain": [
       "<Figure size 432x288 with 1 Axes>"
      ]
     },
     "metadata": {
      "needs_background": "light"
     },
     "output_type": "display_data"
    }
   ],
   "source": [
    "# Step 1: Check spread of data before imputing missing values \n",
    "plt.plot(figsize=(15,10))\n",
    "sns.boxplot(data['Employment_Info_6'])"
   ]
  },
  {
   "cell_type": "markdown",
   "metadata": {},
   "source": [
    "**Employment_Info_6 does not have outliers - Mean should be right to impute missing values**"
   ]
  },
  {
   "cell_type": "code",
   "execution_count": 21,
   "metadata": {},
   "outputs": [],
   "source": [
    "# Step 2: Replace using Mean\n",
    "\n",
    "data['Employment_Info_6'].fillna(data['Employment_Info_6'].mean(),inplace=True) \n",
    "# imputing with Meadian , as there are lots of Outliers "
   ]
  },
  {
   "cell_type": "code",
   "execution_count": 22,
   "metadata": {},
   "outputs": [
    {
     "data": {
      "text/plain": [
       "0"
      ]
     },
     "execution_count": 22,
     "metadata": {},
     "output_type": "execute_result"
    }
   ],
   "source": [
    "data['Employment_Info_6'].isna().sum()"
   ]
  },
  {
   "cell_type": "markdown",
   "metadata": {},
   "source": [
    "<b>Imputing for Medical_History_1</b>"
   ]
  },
  {
   "cell_type": "code",
   "execution_count": 23,
   "metadata": {},
   "outputs": [
    {
     "data": {
      "text/plain": [
       "<matplotlib.axes._subplots.AxesSubplot at 0x1291afeb0>"
      ]
     },
     "execution_count": 23,
     "metadata": {},
     "output_type": "execute_result"
    },
    {
     "data": {
      "image/png": "[encoded data removed]",
      "text/plain": [
       "<Figure size 432x288 with 1 Axes>"
      ]
     },
     "metadata": {
      "needs_background": "light"
     },
     "output_type": "display_data"
    }
   ],
   "source": [
    "# Step 1: Check spread of data before imputing missing values \n",
    "plt.plot(figsize=(15,10))\n",
    "sns.boxplot(data['Medical_History_1'])"
   ]
  },
  {
   "cell_type": "markdown",
   "metadata": {},
   "source": [
    "**Medical_History_1 seems to have lots of outliers - Median should be right to impute missing values**"
   ]
  },
  {
   "cell_type": "code",
   "execution_count": 24,
   "metadata": {},
   "outputs": [],
   "source": [
    "# Step 2: Replace using Mean\n",
    "\n",
    "data['Medical_History_1'].fillna(data['Medical_History_1'].median(),inplace=True) \n",
    "# imputing with Meadian , as there are lots of Outliers "
   ]
  },
  {
   "cell_type": "markdown",
   "metadata": {},
   "source": [
    "<b> Dropping features with high number missing values</b>"
   ]
  },
  {
   "cell_type": "code",
   "execution_count": 25,
   "metadata": {},
   "outputs": [],
   "source": [
    "# drop features with high number of missing values \n",
    "data.drop(['Medical_History_10','Medical_History_15','Medical_History_24','Medical_History_32','Family_Hist_3','Family_Hist_5','Family_Hist_2','Family_Hist_4','Insurance_History_5'],axis=1,inplace=True)"
   ]
  },
  {
   "cell_type": "code",
   "execution_count": 26,
   "metadata": {},
   "outputs": [
    {
     "data": {
      "text/plain": [
       "Id                    0\n",
       "Product_Info_1        0\n",
       "Product_Info_2        0\n",
       "Product_Info_3        0\n",
       "Product_Info_4        0\n",
       "                     ..\n",
       "Medical_Keyword_45    0\n",
       "Medical_Keyword_46    0\n",
       "Medical_Keyword_47    0\n",
       "Medical_Keyword_48    0\n",
       "Response              0\n",
       "Length: 119, dtype: int64"
      ]
     },
     "execution_count": 26,
     "metadata": {},
     "output_type": "execute_result"
    }
   ],
   "source": [
    "#Find out columns have missing values\n",
    "data.isnull().sum()\n"
   ]
  },
  {
   "cell_type": "code",
   "execution_count": 27,
   "metadata": {},
   "outputs": [
    {
     "name": "stdout",
     "output_type": "stream",
     "text": [
      "<class 'pandas.core.frame.DataFrame'>\n",
      "<class 'pandas.core.series.Series'>\n"
     ]
    },
    {
     "data": {
      "image/png": "[encoded data removed]",
      "text/plain": [
       "<Figure size 432x288 with 2 Axes>"
      ]
     },
     "metadata": {
      "needs_background": "light"
     },
     "output_type": "display_data"
    }
   ],
   "source": [
    "#Using Pearson Correlation\n",
    "#plt.figure(figsize=(12,10))\n",
    "cor = data.corr()\n",
    "print(type(cor))\n",
    "\n",
    "cor_target=abs(cor['Response'])\n",
    "\n",
    "relevant_features=cor_target[cor_target>0.2]\n",
    "print(type(relevant_features))\n",
    "#relevant_features.head(70)\n",
    "sns.heatmap(pd.DataFrame(relevant_features), annot=True, cmap=plt.cm.Reds)\n",
    "plt.show()"
   ]
  },
  {
   "cell_type": "code",
   "execution_count": 28,
   "metadata": {},
   "outputs": [
    {
     "data": {
      "image/png": "[encoded data removed]",
      "text/plain": [
       "<Figure size 1152x576 with 2 Axes>"
      ]
     },
     "metadata": {
      "needs_background": "light"
     },
     "output_type": "display_data"
    }
   ],
   "source": [
    "f,ax=plt.subplots(1,2,figsize=(16,8))\n",
    "data['Response'].value_counts().plot.pie(autopct='%1.1f%%',ax=ax[0],shadow=True)\n",
    "ax[0].set_title('Response')\n",
    "ax[0].set_ylabel('')\n",
    "sns.countplot('Response',data=data,ax=ax[1])\n",
    "ax[1].set_title('Response')\n",
    "plt.show()"
   ]
  },
  {
   "cell_type": "markdown",
   "metadata": {},
   "source": [
    "<a id=\"ml\"></a>\n",
    "# 5. Machine Learning"
   ]
  },
  {
   "cell_type": "markdown",
   "metadata": {},
   "source": [
    "## Feature Engineering"
   ]
  },
  {
   "cell_type": "markdown",
   "metadata": {},
   "source": [
    "After basic EDA, Insurance dataset has 118 features, which is not desirable for good prediction models. \n",
    "\n",
    "There are multiple ways which I have explored\n",
    "1. Design model will all features\n",
    "2. Select features which have high co-relation with target variable 'Response'\n",
    "3. Use VIF - Variance Inflation factor for multi-colinearity\n"
   ]
  },
  {
   "cell_type": "code",
   "execution_count": 29,
   "metadata": {},
   "outputs": [
    {
     "data": {
      "text/plain": [
       "{dtype('int64'): Index(['Id', 'Product_Info_1', 'Product_Info_3', 'Product_Info_5',\n",
       "        'Product_Info_6', 'Product_Info_7', 'Employment_Info_2',\n",
       "        'Employment_Info_3', 'Employment_Info_5', 'InsuredInfo_1',\n",
       "        ...\n",
       "        'Medical_Keyword_40', 'Medical_Keyword_41', 'Medical_Keyword_42',\n",
       "        'Medical_Keyword_43', 'Medical_Keyword_44', 'Medical_Keyword_45',\n",
       "        'Medical_Keyword_46', 'Medical_Keyword_47', 'Medical_Keyword_48',\n",
       "        'Response'],\n",
       "       dtype='object', length=109),\n",
       " dtype('float64'): Index(['Product_Info_4', 'Ins_Age', 'Ht', 'Wt', 'BMI', 'Employment_Info_1',\n",
       "        'Employment_Info_4', 'Employment_Info_6', 'Medical_History_1'],\n",
       "       dtype='object'),\n",
       " dtype('O'): Index(['Product_Info_2'], dtype='object')}"
      ]
     },
     "execution_count": 29,
     "metadata": {},
     "output_type": "execute_result"
    }
   ],
   "source": [
    "# Check for categorical columns\n",
    "g = data.columns.to_series().groupby(data.dtypes).groups\n",
    "\n",
    "g"
   ]
  },
  {
   "cell_type": "markdown",
   "metadata": {},
   "source": [
    "There is only one column 'Product_Info_2' which is categorical"
   ]
  },
  {
   "attachments": {},
   "cell_type": "markdown",
   "metadata": {},
   "source": [
    "<a id=\"fe\"></a>\n",
    "##### Applying Encoding on Product_Info_2 categorical \n",
    "\n",
    " Since most machine learning models only accept numerical variables, preprocessing the categorical variables becomes a necessary step. We need to convert these categorical variables to numbers such that the model is able to understand and extract valuable information.\n"
   ]
  },
  {
   "cell_type": "code",
   "execution_count": 30,
   "metadata": {},
   "outputs": [
    {
     "name": "stdout",
     "output_type": "stream",
     "text": [
      "          Id  Product_Info_1  Product_Info_3  Product_Info_4  Product_Info_5  \\\n",
      "0          2               1              10        0.076923               2   \n",
      "1          5               1              26        0.076923               2   \n",
      "2          6               1              26        0.076923               2   \n",
      "3          7               1              10        0.487179               2   \n",
      "4          8               1              26        0.230769               2   \n",
      "...      ...             ...             ...             ...             ...   \n",
      "59376  79142               1              10        0.230769               2   \n",
      "59377  79143               1              26        0.230769               2   \n",
      "59378  79144               1              26        0.076923               2   \n",
      "59379  79145               1              10        0.230769               2   \n",
      "59380  79146               1              26        0.076923               2   \n",
      "\n",
      "       Product_Info_6  Product_Info_7   Ins_Age        Ht        Wt  ...  \\\n",
      "0                   1               1  0.641791  0.581818  0.148536  ...   \n",
      "1                   3               1  0.059701  0.600000  0.131799  ...   \n",
      "2                   3               1  0.029851  0.745455  0.288703  ...   \n",
      "3                   3               1  0.164179  0.672727  0.205021  ...   \n",
      "4                   3               1  0.417910  0.654545  0.234310  ...   \n",
      "...               ...             ...       ...       ...       ...  ...   \n",
      "59376               3               1  0.074627  0.709091  0.320084  ...   \n",
      "59377               3               1  0.432836  0.800000  0.403766  ...   \n",
      "59378               3               1  0.104478  0.745455  0.246862  ...   \n",
      "59379               3               1  0.507463  0.690909  0.276151  ...   \n",
      "59380               3               1  0.447761  0.781818  0.382845  ...   \n",
      "\n",
      "       Product_Info_2_B2  Product_Info_2_C1  Product_Info_2_C2  \\\n",
      "0                      0                  0                  0   \n",
      "1                      0                  0                  0   \n",
      "2                      0                  0                  0   \n",
      "3                      0                  0                  0   \n",
      "4                      0                  0                  0   \n",
      "...                  ...                ...                ...   \n",
      "59376                  0                  0                  0   \n",
      "59377                  0                  0                  0   \n",
      "59378                  0                  0                  0   \n",
      "59379                  0                  0                  0   \n",
      "59380                  0                  0                  0   \n",
      "\n",
      "       Product_Info_2_C3  Product_Info_2_C4  Product_Info_2_D1  \\\n",
      "0                      0                  0                  0   \n",
      "1                      0                  0                  0   \n",
      "2                      0                  0                  0   \n",
      "3                      0                  0                  0   \n",
      "4                      0                  0                  0   \n",
      "...                  ...                ...                ...   \n",
      "59376                  0                  0                  1   \n",
      "59377                  0                  0                  0   \n",
      "59378                  0                  0                  0   \n",
      "59379                  0                  0                  0   \n",
      "59380                  0                  0                  0   \n",
      "\n",
      "       Product_Info_2_D2  Product_Info_2_D3  Product_Info_2_D4  \\\n",
      "0                      0                  1                  0   \n",
      "1                      0                  0                  0   \n",
      "2                      0                  0                  0   \n",
      "3                      0                  0                  1   \n",
      "4                      1                  0                  0   \n",
      "...                  ...                ...                ...   \n",
      "59376                  0                  0                  0   \n",
      "59377                  0                  1                  0   \n",
      "59378                  0                  0                  0   \n",
      "59379                  1                  0                  0   \n",
      "59380                  0                  0                  0   \n",
      "\n",
      "       Product_Info_2_E1  \n",
      "0                      0  \n",
      "1                      0  \n",
      "2                      1  \n",
      "3                      0  \n",
      "4                      0  \n",
      "...                  ...  \n",
      "59376                  0  \n",
      "59377                  0  \n",
      "59378                  1  \n",
      "59379                  0  \n",
      "59380                  0  \n",
      "\n",
      "[59381 rows x 137 columns]\n"
     ]
    }
   ],
   "source": [
    "from sklearn.preprocessing import LabelEncoder\n",
    "data = pd.get_dummies(data, columns=['Product_Info_2'])\n",
    "print(data)"
   ]
  },
  {
   "cell_type": "code",
   "execution_count": 31,
   "metadata": {},
   "outputs": [
    {
     "data": {
      "text/plain": [
       "3     1013\n",
       "4     1428\n",
       "5     5432\n",
       "1     6207\n",
       "2     6552\n",
       "7     8027\n",
       "6    11233\n",
       "8    19489\n",
       "Name: Response, dtype: int64"
      ]
     },
     "execution_count": 31,
     "metadata": {},
     "output_type": "execute_result"
    }
   ],
   "source": [
    "#check if dataset is balance\n",
    "data['Response'].value_counts().sort_values()"
   ]
  },
  {
   "cell_type": "markdown",
   "metadata": {},
   "source": [
    "<a id=\"appr1\"></a> <font style=\"color:red;font-size: 25px; font-weight:bold\"> 5.1  Approach 1 -  Build Models with all features </font>"
   ]
  },
  {
   "cell_type": "code",
   "execution_count": 32,
   "metadata": {},
   "outputs": [],
   "source": [
    "#Preparing X  , Y \n",
    "\n",
    "y = data['Response'] # dependent variable\n",
    "X = data.drop(['Response','Id'], axis=1) "
   ]
  },
  {
   "cell_type": "code",
   "execution_count": 33,
   "metadata": {},
   "outputs": [
    {
     "name": "stdout",
     "output_type": "stream",
     "text": [
      "Shape of X is : (59381, 135)\n",
      "Shape of y is : (59381,)\n"
     ]
    }
   ],
   "source": [
    "print('Shape of X is :', X.shape)\n",
    "print('Shape of y is :',y.shape)"
   ]
  },
  {
   "cell_type": "markdown",
   "metadata": {},
   "source": [
    "## Split Data in Train Test"
   ]
  },
  {
   "cell_type": "code",
   "execution_count": 34,
   "metadata": {},
   "outputs": [],
   "source": [
    "#splitting the data into 80% train and 20% test\n",
    "from sklearn.model_selection import train_test_split\n",
    "\n",
    "def split(X,y):\n",
    "    return train_test_split(X,y, test_size=0.20, random_state=25, shuffle=True)\n",
    "\n",
    "X_train, X_test, y_train, y_test=split(X,y)"
   ]
  },
  {
   "cell_type": "code",
   "execution_count": 35,
   "metadata": {},
   "outputs": [
    {
     "name": "stdout",
     "output_type": "stream",
     "text": [
      "Shape of X is : (59381, 135)\n",
      "Shape of y is : (59381,)\n"
     ]
    }
   ],
   "source": [
    "print('Shape of X is :', X.shape)\n",
    "print('Shape of y is :',y.shape)"
   ]
  },
  {
   "cell_type": "code",
   "execution_count": 36,
   "metadata": {},
   "outputs": [
    {
     "name": "stdout",
     "output_type": "stream",
     "text": [
      "Shape of X_train is : (47504, 135)\n",
      "Shape of y_train is : (47504,)\n",
      "Shape of X_test is : (11877, 135)\n",
      "Shape of y_test is : (11877,)\n"
     ]
    }
   ],
   "source": [
    "print('Shape of X_train is :', X_train.shape)\n",
    "print('Shape of y_train is :',y_train.shape)\n",
    "print('Shape of X_test is :', X_test.shape)\n",
    "print('Shape of y_test is :',y_test.shape)"
   ]
  },
  {
   "cell_type": "code",
   "execution_count": 37,
   "metadata": {},
   "outputs": [
    {
     "name": "stdout",
     "output_type": "stream",
     "text": [
      "y train unique values  [5 8 6 1 7 2 4 3]\n",
      "y test unique values  [8 6 2 5 1 7 3 4]\n"
     ]
    }
   ],
   "source": [
    "# check if the train data covers all classes\n",
    "print(\"y train unique values \" ,  y_train.unique())\n",
    "print(\"y test unique values \" , y_test.unique())"
   ]
  },
  {
   "cell_type": "code",
   "execution_count": 38,
   "metadata": {},
   "outputs": [],
   "source": [
    "from sklearn.metrics import accuracy_score,confusion_matrix\n",
    "from sklearn.model_selection import cross_val_score,GridSearchCV\n"
   ]
  },
  {
   "cell_type": "markdown",
   "metadata": {},
   "source": [
    "### Model 1 - Decision Tree"
   ]
  },
  {
   "cell_type": "code",
   "execution_count": 39,
   "metadata": {},
   "outputs": [],
   "source": [
    "# Using a Decision Tree classifier without any attributes\n",
    "from sklearn.tree import DecisionTreeClassifier\n",
    "DT1=DecisionTreeClassifier()\n",
    "model_DT1=DT1.fit(X_train,y_train)\n",
    "y_pred=model_DT1.predict(X_test)"
   ]
  },
  {
   "cell_type": "code",
   "execution_count": 40,
   "metadata": {},
   "outputs": [
    {
     "name": "stdout",
     "output_type": "stream",
     "text": [
      "Accuracy with all default:  0.3976593415845752\n"
     ]
    }
   ],
   "source": [
    "dt_acc=accuracy_score(y_test,y_pred)\n",
    "print(\"Accuracy with all default: \" , dt_acc)\n",
    "results = pd.DataFrame()"
   ]
  },
  {
   "cell_type": "code",
   "execution_count": 41,
   "metadata": {},
   "outputs": [
    {
     "data": {
      "text/html": [
       "<div>\n",
       "<style scoped>\n",
       "    .dataframe tbody tr th:only-of-type {\n",
       "        vertical-align: middle;\n",
       "    }\n",
       "\n",
       "    .dataframe tbody tr th {\n",
       "        vertical-align: top;\n",
       "    }\n",
       "\n",
       "    .dataframe thead th {\n",
       "        text-align: right;\n",
       "    }\n",
       "</style>\n",
       "<table border=\"1\" class=\"dataframe\">\n",
       "  <thead>\n",
       "    <tr style=\"text-align: right;\">\n",
       "      <th></th>\n",
       "      <th>Algorithm</th>\n",
       "      <th>Accuracy</th>\n",
       "    </tr>\n",
       "  </thead>\n",
       "  <tbody>\n",
       "    <tr>\n",
       "      <th>0</th>\n",
       "      <td>Decision Tree Method with default values</td>\n",
       "      <td>0.397659</td>\n",
       "    </tr>\n",
       "  </tbody>\n",
       "</table>\n",
       "</div>"
      ],
      "text/plain": [
       "                                  Algorithm  Accuracy\n",
       "0  Decision Tree Method with default values  0.397659"
      ]
     },
     "execution_count": 41,
     "metadata": {},
     "output_type": "execute_result"
    }
   ],
   "source": [
    "tempResults = pd.DataFrame({'Algorithm':['Decision Tree Method with default values'], 'Accuracy':[dt_acc]})\n",
    "results = pd.concat( [results, tempResults] )\n",
    "results = results[['Algorithm','Accuracy']]\n",
    "results"
   ]
  },
  {
   "cell_type": "markdown",
   "metadata": {},
   "source": [
    "#### Hypertuning parameters"
   ]
  },
  {
   "cell_type": "code",
   "execution_count": 42,
   "metadata": {},
   "outputs": [
    {
     "name": "stdout",
     "output_type": "stream",
     "text": [
      "Accuracy with Entropy and max_dept=10 :  0.5112402121747917\n"
     ]
    }
   ],
   "source": [
    "# Using a Decision Tree classifier with Random_state, Criterion , max_depth\n",
    "from sklearn.tree import DecisionTreeClassifier\n",
    "DT2=DecisionTreeClassifier(random_state = 0, criterion='entropy', max_depth=10)\n",
    "model_DT2=DT2.fit(X_train,y_train)\n",
    "y_pred=model_DT2.predict(X_test)\n",
    "\n",
    "dt_acc_hp1=accuracy_score(y_test,y_pred)\n",
    "print(\"Accuracy with Entropy and max_dept=10 : \" ,dt_acc_hp1)"
   ]
  },
  {
   "cell_type": "code",
   "execution_count": 43,
   "metadata": {},
   "outputs": [
    {
     "data": {
      "text/html": [
       "<div>\n",
       "<style scoped>\n",
       "    .dataframe tbody tr th:only-of-type {\n",
       "        vertical-align: middle;\n",
       "    }\n",
       "\n",
       "    .dataframe tbody tr th {\n",
       "        vertical-align: top;\n",
       "    }\n",
       "\n",
       "    .dataframe thead th {\n",
       "        text-align: right;\n",
       "    }\n",
       "</style>\n",
       "<table border=\"1\" class=\"dataframe\">\n",
       "  <thead>\n",
       "    <tr style=\"text-align: right;\">\n",
       "      <th></th>\n",
       "      <th>Algorithm</th>\n",
       "      <th>Accuracy</th>\n",
       "    </tr>\n",
       "  </thead>\n",
       "  <tbody>\n",
       "    <tr>\n",
       "      <th>0</th>\n",
       "      <td>Decision Tree Method with default values</td>\n",
       "      <td>0.397659</td>\n",
       "    </tr>\n",
       "    <tr>\n",
       "      <th>0</th>\n",
       "      <td>Decision Tree with Hypertuning</td>\n",
       "      <td>0.511240</td>\n",
       "    </tr>\n",
       "  </tbody>\n",
       "</table>\n",
       "</div>"
      ],
      "text/plain": [
       "                                  Algorithm  Accuracy\n",
       "0  Decision Tree Method with default values  0.397659\n",
       "0            Decision Tree with Hypertuning  0.511240"
      ]
     },
     "execution_count": 43,
     "metadata": {},
     "output_type": "execute_result"
    }
   ],
   "source": [
    "tempResults = pd.DataFrame({'Algorithm':['Decision Tree with Hypertuning'], 'Accuracy':[dt_acc_hp1]})\n",
    "results = pd.concat( [results, tempResults] )\n",
    "results = results[['Algorithm','Accuracy']]\n",
    "results"
   ]
  },
  {
   "cell_type": "markdown",
   "metadata": {},
   "source": [
    "## Model 2 - Decision Tree Classifier with GridSearchCV"
   ]
  },
  {
   "cell_type": "code",
   "execution_count": 44,
   "metadata": {},
   "outputs": [
    {
     "name": "stdout",
     "output_type": "stream",
     "text": [
      "Accuracy with GridSearchCV:  0.5142712806264208\n"
     ]
    }
   ],
   "source": [
    "# Using a Decision Tree classifier with GridSearchCV\n",
    "from sklearn.tree import DecisionTreeClassifier\n",
    "param_grid={'max_depth':range(1,20,2)}\n",
    "DT=DecisionTreeClassifier()\n",
    "clf_DT=GridSearchCV(DT,param_grid,cv=10,scoring='accuracy',n_jobs=-1).fit(X_train,y_train)\n",
    "model_DT=clf_DT.fit(X_train,y_train)\n",
    "y_pred=model_DT.predict(X_test)\n",
    "dt_acc_grid=accuracy_score(y_test,y_pred)\n",
    "print(\"Accuracy with GridSearchCV: \" ,dt_acc_grid)"
   ]
  },
  {
   "cell_type": "code",
   "execution_count": 45,
   "metadata": {},
   "outputs": [
    {
     "data": {
      "text/html": [
       "<div>\n",
       "<style scoped>\n",
       "    .dataframe tbody tr th:only-of-type {\n",
       "        vertical-align: middle;\n",
       "    }\n",
       "\n",
       "    .dataframe tbody tr th {\n",
       "        vertical-align: top;\n",
       "    }\n",
       "\n",
       "    .dataframe thead th {\n",
       "        text-align: right;\n",
       "    }\n",
       "</style>\n",
       "<table border=\"1\" class=\"dataframe\">\n",
       "  <thead>\n",
       "    <tr style=\"text-align: right;\">\n",
       "      <th></th>\n",
       "      <th>Algorithm</th>\n",
       "      <th>Accuracy</th>\n",
       "    </tr>\n",
       "  </thead>\n",
       "  <tbody>\n",
       "    <tr>\n",
       "      <th>0</th>\n",
       "      <td>Decision Tree Method with default values</td>\n",
       "      <td>0.397659</td>\n",
       "    </tr>\n",
       "    <tr>\n",
       "      <th>0</th>\n",
       "      <td>Decision Tree with Hypertuning</td>\n",
       "      <td>0.511240</td>\n",
       "    </tr>\n",
       "    <tr>\n",
       "      <th>0</th>\n",
       "      <td>Decision Tree with GridSearchCV</td>\n",
       "      <td>0.514271</td>\n",
       "    </tr>\n",
       "  </tbody>\n",
       "</table>\n",
       "</div>"
      ],
      "text/plain": [
       "                                  Algorithm  Accuracy\n",
       "0  Decision Tree Method with default values  0.397659\n",
       "0            Decision Tree with Hypertuning  0.511240\n",
       "0           Decision Tree with GridSearchCV  0.514271"
      ]
     },
     "execution_count": 45,
     "metadata": {},
     "output_type": "execute_result"
    }
   ],
   "source": [
    "tempResults = pd.DataFrame({'Algorithm':['Decision Tree with GridSearchCV'], 'Accuracy':[dt_acc_grid]})\n",
    "results = pd.concat( [results, tempResults] )\n",
    "results = results[['Algorithm','Accuracy']]\n",
    "results"
   ]
  },
  {
   "cell_type": "code",
   "execution_count": 46,
   "metadata": {},
   "outputs": [
    {
     "name": "stdout",
     "output_type": "stream",
     "text": [
      "Confusion matrix for test data with model 1 is:\n",
      " [[ 152  168    4    4  124  389  116  303]\n",
      " [  96  284    2    6  157  362  115  268]\n",
      " [  11   10    5    6   52  114    9   19]\n",
      " [   5    0    0   16    1  150    8   79]\n",
      " [  42  108    5    0  509  251   71  113]\n",
      " [  89   67    0   10   76 1167  255  591]\n",
      " [  43   18    0    4    5  362  541  639]\n",
      " [   7   13    0   13    2  309   98 3434]]\n"
     ]
    },
    {
     "data": {
      "text/plain": [
       "<matplotlib.image.AxesImage at 0x1246f52e0>"
      ]
     },
     "execution_count": 46,
     "metadata": {},
     "output_type": "execute_result"
    },
    {
     "data": {
      "image/png": "[encoded data removed]",
      "text/plain": [
       "<Figure size 720x360 with 1 Axes>"
      ]
     },
     "metadata": {
      "needs_background": "light"
     },
     "output_type": "display_data"
    }
   ],
   "source": [
    "from sklearn.metrics import confusion_matrix\n",
    "print('Confusion matrix for test data with model 1 is:\\n',confusion_matrix(y_test, y_pred))\n",
    "\n",
    "plt.figure(figsize = (10,5))\n",
    "cnf_matrix = confusion_matrix(y_test, y_pred)\n",
    "plt.imshow(cnf_matrix, cmap=plt.cm.Reds, interpolation='nearest') #plot confusion matrix grid"
   ]
  },
  {
   "cell_type": "markdown",
   "metadata": {},
   "source": [
    "### Model 3 - Logistic Regression"
   ]
  },
  {
   "cell_type": "code",
   "execution_count": 47,
   "metadata": {},
   "outputs": [
    {
     "name": "stdout",
     "output_type": "stream",
     "text": [
      "Accuracy score for the Logistic model: 0.35758188094636695\n"
     ]
    }
   ],
   "source": [
    "from sklearn.linear_model import LogisticRegression\n",
    "logis = LogisticRegression()\n",
    "logis.fit(X_train, y_train)\n",
    "y_pred = logis.predict(X_test)\n",
    "logit_accuracy = accuracy_score(y_test,y_pred)\n",
    "print('Accuracy score for the Logistic model:', logit_accuracy)"
   ]
  },
  {
   "cell_type": "code",
   "execution_count": 48,
   "metadata": {},
   "outputs": [
    {
     "name": "stdout",
     "output_type": "stream",
     "text": [
      "Accuracy score for the Logistic model: 0.3554769722994022\n"
     ]
    }
   ],
   "source": [
    "from sklearn.linear_model import LogisticRegression\n",
    "logis = LogisticRegression(penalty=\"none\")\n",
    "logis.fit(X_train, y_train)\n",
    "y_pred = logis.predict(X_test)\n",
    "logit_accuracy = accuracy_score(y_test,y_pred)\n",
    "print('Accuracy score for the Logistic model:', logit_accuracy)"
   ]
  },
  {
   "cell_type": "code",
   "execution_count": 49,
   "metadata": {},
   "outputs": [
    {
     "data": {
      "text/html": [
       "<div>\n",
       "<style scoped>\n",
       "    .dataframe tbody tr th:only-of-type {\n",
       "        vertical-align: middle;\n",
       "    }\n",
       "\n",
       "    .dataframe tbody tr th {\n",
       "        vertical-align: top;\n",
       "    }\n",
       "\n",
       "    .dataframe thead th {\n",
       "        text-align: right;\n",
       "    }\n",
       "</style>\n",
       "<table border=\"1\" class=\"dataframe\">\n",
       "  <thead>\n",
       "    <tr style=\"text-align: right;\">\n",
       "      <th></th>\n",
       "      <th>Algorithm</th>\n",
       "      <th>Accuracy</th>\n",
       "    </tr>\n",
       "  </thead>\n",
       "  <tbody>\n",
       "    <tr>\n",
       "      <th>0</th>\n",
       "      <td>Decision Tree Method with default values</td>\n",
       "      <td>0.397659</td>\n",
       "    </tr>\n",
       "    <tr>\n",
       "      <th>0</th>\n",
       "      <td>Decision Tree with Hypertuning</td>\n",
       "      <td>0.511240</td>\n",
       "    </tr>\n",
       "    <tr>\n",
       "      <th>0</th>\n",
       "      <td>Decision Tree with GridSearchCV</td>\n",
       "      <td>0.514271</td>\n",
       "    </tr>\n",
       "    <tr>\n",
       "      <th>0</th>\n",
       "      <td>Logistic Regression</td>\n",
       "      <td>0.355477</td>\n",
       "    </tr>\n",
       "  </tbody>\n",
       "</table>\n",
       "</div>"
      ],
      "text/plain": [
       "                                  Algorithm  Accuracy\n",
       "0  Decision Tree Method with default values  0.397659\n",
       "0            Decision Tree with Hypertuning  0.511240\n",
       "0           Decision Tree with GridSearchCV  0.514271\n",
       "0                       Logistic Regression  0.355477"
      ]
     },
     "execution_count": 49,
     "metadata": {},
     "output_type": "execute_result"
    }
   ],
   "source": [
    "tempResults = pd.DataFrame({'Algorithm':['Logistic Regression'], 'Accuracy':[logit_accuracy]})\n",
    "results = pd.concat( [results, tempResults] )\n",
    "results = results[['Algorithm','Accuracy']]\n",
    "results"
   ]
  },
  {
   "cell_type": "markdown",
   "metadata": {},
   "source": [
    "### Model 4 - Random Forest Classifier"
   ]
  },
  {
   "cell_type": "code",
   "execution_count": 50,
   "metadata": {},
   "outputs": [],
   "source": [
    "from sklearn.ensemble import RandomForestClassifier\n",
    "model1 = RandomForestClassifier(random_state = 0)"
   ]
  },
  {
   "cell_type": "code",
   "execution_count": 51,
   "metadata": {},
   "outputs": [],
   "source": [
    "model2 = RandomForestClassifier(criterion='entropy',\n",
    "                                n_estimators=6,\n",
    "                                random_state = 0,\n",
    "                                max_depth=11,\n",
    "                                min_samples_split=5,\n",
    "                                min_samples_leaf=4,\n",
    "                                max_leaf_nodes=5,\n",
    "                                n_jobs=-1,\n",
    "                                )"
   ]
  },
  {
   "cell_type": "code",
   "execution_count": 52,
   "metadata": {},
   "outputs": [],
   "source": [
    "model1.fit(X_train,y_train)\n",
    "prediction1 = pd.DataFrame()\n",
    "prediction1 = model1.predict(X_test)"
   ]
  },
  {
   "cell_type": "code",
   "execution_count": 53,
   "metadata": {},
   "outputs": [],
   "source": [
    "model2.fit(X_train,y_train)\n",
    "prediction2 = pd.DataFrame()\n",
    "prediction2 = model2.predict(X_test)"
   ]
  },
  {
   "cell_type": "code",
   "execution_count": 54,
   "metadata": {},
   "outputs": [
    {
     "name": "stdout",
     "output_type": "stream",
     "text": [
      "Accuracy score for test data with model 1 is: 0.5308579607645029\n",
      "Accuracy score for test data with model 2 is: 0.3771996295360781\n"
     ]
    }
   ],
   "source": [
    "from sklearn.metrics import accuracy_score\n",
    "print('Accuracy score for test data with model 1 is:',accuracy_score(y_test, prediction1))\n",
    "print('Accuracy score for test data with model 2 is:',accuracy_score(y_test, prediction2))"
   ]
  },
  {
   "cell_type": "code",
   "execution_count": 55,
   "metadata": {},
   "outputs": [
    {
     "name": "stdout",
     "output_type": "stream",
     "text": [
      "Confusion matrix for test data with model 1 is:\n",
      " [[ 245  197    0    4  108  304  111  291]\n",
      " [ 135  333    0    2  152  320   94  254]\n",
      " [  14   16    7    2   61   87   11   28]\n",
      " [   6    0    0   14    0  116   20  103]\n",
      " [  47  106    2    0  563  224   54  103]\n",
      " [ 105   93    0    6  103 1156  220  572]\n",
      " [  34   17    0    3   17  386  535  620]\n",
      " [  18    9    0    2    2  274  119 3452]]\n",
      "Confusion matrix for test data with model 2 is:\n",
      " [[   1   42    0    0   54  332    1  830]\n",
      " [   1   56    0    0   59  371    1  802]\n",
      " [   0    2    0    0   10   45    0  169]\n",
      " [   0    0    0    0    0   17    0  242]\n",
      " [   2   26    0    0  106  239    0  726]\n",
      " [   0   21    0    0    0  515    1 1718]\n",
      " [   0    6    0    0    0  262    0 1344]\n",
      " [   0    0    0    0    0   74    0 3802]]\n"
     ]
    },
    {
     "data": {
      "text/plain": [
       "<matplotlib.image.AxesImage at 0x12329b760>"
      ]
     },
     "execution_count": 55,
     "metadata": {},
     "output_type": "execute_result"
    },
    {
     "data": {
      "image/png": "[encoded data removed]",
      "text/plain": [
       "<Figure size 1440x720 with 1 Axes>"
      ]
     },
     "metadata": {
      "needs_background": "light"
     },
     "output_type": "display_data"
    }
   ],
   "source": [
    "from sklearn.metrics import confusion_matrix\n",
    "print('Confusion matrix for test data with model 1 is:\\n',confusion_matrix(y_test, prediction1))\n",
    "print('Confusion matrix for test data with model 2 is:\\n',confusion_matrix(y_test, prediction2))\n",
    "plt.figure(figsize = (20,10))\n",
    "cnf_matrix = confusion_matrix(y_test, prediction1)\n",
    "plt.imshow(cnf_matrix, cmap=plt.cm.Reds, interpolation='nearest') #plot confusion matrix grid"
   ]
  },
  {
   "cell_type": "code",
   "execution_count": 56,
   "metadata": {},
   "outputs": [
    {
     "name": "stdout",
     "output_type": "stream",
     "text": [
      "F1_score for test data using model1 is: 0.5308579607645029\n",
      "F1_score for test data using model2 is: 0.3771996295360781\n"
     ]
    }
   ],
   "source": [
    "from sklearn.metrics import f1_score\n",
    "print('F1_score for test data using model1 is:',f1_score(y_test, prediction1,average='micro'))\n",
    "print('F1_score for test data using model2 is:',f1_score(y_test, prediction2, average='micro'))"
   ]
  },
  {
   "cell_type": "code",
   "execution_count": 57,
   "metadata": {},
   "outputs": [
    {
     "name": "stdout",
     "output_type": "stream",
     "text": [
      "Precision score for test data using model1 is: 0.5308579607645029\n",
      "Precision score for test data using model2 is: 0.3771996295360781\n"
     ]
    }
   ],
   "source": [
    "from sklearn.metrics import precision_score\n",
    "precision1 = precision_score(y_test,prediction1,average='micro')\n",
    "print('Precision score for test data using model1 is:', precision1)\n",
    "precision2 = precision_score(y_test,prediction2,average='micro')\n",
    "print('Precision score for test data using model2 is:', precision2)"
   ]
  },
  {
   "cell_type": "code",
   "execution_count": 58,
   "metadata": {},
   "outputs": [
    {
     "name": "stdout",
     "output_type": "stream",
     "text": [
      "              precision    recall  f1-score   support\n",
      "\n",
      "           1       0.41      0.19      0.26      1260\n",
      "           2       0.43      0.26      0.32      1290\n",
      "           3       0.78      0.03      0.06       226\n",
      "           4       0.42      0.05      0.10       259\n",
      "           5       0.56      0.51      0.53      1099\n",
      "           6       0.40      0.51      0.45      2255\n",
      "           7       0.46      0.33      0.39      1612\n",
      "           8       0.64      0.89      0.74      3876\n",
      "\n",
      "    accuracy                           0.53     11877\n",
      "   macro avg       0.51      0.35      0.36     11877\n",
      "weighted avg       0.51      0.53      0.50     11877\n",
      "\n"
     ]
    }
   ],
   "source": [
    "from sklearn.metrics import classification_report\n",
    "print(classification_report(y_test,prediction1))"
   ]
  },
  {
   "cell_type": "code",
   "execution_count": 59,
   "metadata": {},
   "outputs": [
    {
     "data": {
      "text/html": [
       "<div>\n",
       "<style scoped>\n",
       "    .dataframe tbody tr th:only-of-type {\n",
       "        vertical-align: middle;\n",
       "    }\n",
       "\n",
       "    .dataframe tbody tr th {\n",
       "        vertical-align: top;\n",
       "    }\n",
       "\n",
       "    .dataframe thead th {\n",
       "        text-align: right;\n",
       "    }\n",
       "</style>\n",
       "<table border=\"1\" class=\"dataframe\">\n",
       "  <thead>\n",
       "    <tr style=\"text-align: right;\">\n",
       "      <th></th>\n",
       "      <th>Algorithm</th>\n",
       "      <th>Accuracy</th>\n",
       "    </tr>\n",
       "  </thead>\n",
       "  <tbody>\n",
       "    <tr>\n",
       "      <th>0</th>\n",
       "      <td>Decision Tree Method with default values</td>\n",
       "      <td>0.397659</td>\n",
       "    </tr>\n",
       "    <tr>\n",
       "      <th>0</th>\n",
       "      <td>Decision Tree with Hypertuning</td>\n",
       "      <td>0.511240</td>\n",
       "    </tr>\n",
       "    <tr>\n",
       "      <th>0</th>\n",
       "      <td>Decision Tree with GridSearchCV</td>\n",
       "      <td>0.514271</td>\n",
       "    </tr>\n",
       "    <tr>\n",
       "      <th>0</th>\n",
       "      <td>Logistic Regression</td>\n",
       "      <td>0.355477</td>\n",
       "    </tr>\n",
       "    <tr>\n",
       "      <th>0</th>\n",
       "      <td>Random Forest Classifier</td>\n",
       "      <td>0.530858</td>\n",
       "    </tr>\n",
       "  </tbody>\n",
       "</table>\n",
       "</div>"
      ],
      "text/plain": [
       "                                  Algorithm  Accuracy\n",
       "0  Decision Tree Method with default values  0.397659\n",
       "0            Decision Tree with Hypertuning  0.511240\n",
       "0           Decision Tree with GridSearchCV  0.514271\n",
       "0                       Logistic Regression  0.355477\n",
       "0                  Random Forest Classifier  0.530858"
      ]
     },
     "execution_count": 59,
     "metadata": {},
     "output_type": "execute_result"
    }
   ],
   "source": [
    "tempResults = pd.DataFrame({'Algorithm':['Random Forest Classifier'], 'Accuracy':accuracy_score(y_test, prediction1)})\n",
    "results = pd.concat( [results, tempResults] )\n",
    "results = results[['Algorithm','Accuracy']]\n",
    "results"
   ]
  },
  {
   "cell_type": "markdown",
   "metadata": {},
   "source": [
    "### End of Model development based on Approach 1\n"
   ]
  },
  {
   "cell_type": "markdown",
   "metadata": {},
   "source": [
    "<a id=\"appr2\"></a> \n",
    "\n",
    "<font style=\"color:red;font-size: 25px; font-weight:bold\">  Approach 2 -  Feature selection based on co-relation with Target Variable </font>"
   ]
  },
  {
   "cell_type": "code",
   "execution_count": 60,
   "metadata": {},
   "outputs": [
    {
     "data": {
      "text/plain": [
       "Product_Info_4        0.202434\n",
       "Ins_Age               0.209610\n",
       "Wt                    0.351395\n",
       "BMI                   0.381601\n",
       "Medical_History_4     0.239896\n",
       "Medical_History_23    0.286584\n",
       "Medical_History_39    0.220176\n",
       "Medical_Keyword_3     0.257706\n",
       "Medical_Keyword_15    0.259169\n",
       "Response              1.000000\n",
       "Name: Response, dtype: float64"
      ]
     },
     "execution_count": 60,
     "metadata": {},
     "output_type": "execute_result"
    },
    {
     "data": {
      "text/plain": [
       "<Figure size 864x720 with 0 Axes>"
      ]
     },
     "metadata": {},
     "output_type": "display_data"
    }
   ],
   "source": [
    "#Using Pearson Correlation\n",
    "plt.figure(figsize=(12,10))\n",
    "cor = data.corr()\n",
    "cor_target=abs(cor['Response'])\n",
    "\n",
    "relevant_features=cor_target[cor_target>0.2]\n",
    "relevant_features"
   ]
  },
  {
   "cell_type": "code",
   "execution_count": 61,
   "metadata": {},
   "outputs": [],
   "source": [
    "# based on output of Pearson Correlation - select only columns with cor >0.2\n",
    "\n",
    "cols=['Product_Info_4','Ins_Age','Wt','BMI','Medical_History_4','Medical_History_23','Medical_History_39','Medical_Keyword_3','Medical_Keyword_15']\n",
    "X=data[cols]\n",
    "y=data['Response']"
   ]
  },
  {
   "cell_type": "code",
   "execution_count": 62,
   "metadata": {},
   "outputs": [
    {
     "name": "stdout",
     "output_type": "stream",
     "text": [
      "Shape of X is : (59381, 9)\n",
      "Shape of y is : (59381,)\n"
     ]
    }
   ],
   "source": [
    "print('Shape of X is :', X.shape)\n",
    "print('Shape of y is :',y.shape)"
   ]
  },
  {
   "cell_type": "markdown",
   "metadata": {},
   "source": [
    "## Split Data in Train Test"
   ]
  },
  {
   "cell_type": "code",
   "execution_count": 63,
   "metadata": {},
   "outputs": [],
   "source": [
    "#splitting the data into 80% train and 20% test\n",
    "\n",
    "\n",
    "X_train, X_test, y_train, y_test=split(X,y)"
   ]
  },
  {
   "cell_type": "code",
   "execution_count": 64,
   "metadata": {},
   "outputs": [
    {
     "name": "stdout",
     "output_type": "stream",
     "text": [
      "Shape of X is : (59381, 9)\n",
      "Shape of y is : (59381,)\n"
     ]
    }
   ],
   "source": [
    "print('Shape of X is :', X.shape)\n",
    "print('Shape of y is :',y.shape)"
   ]
  },
  {
   "cell_type": "code",
   "execution_count": 65,
   "metadata": {},
   "outputs": [
    {
     "name": "stdout",
     "output_type": "stream",
     "text": [
      "Shape of X_train is : (47504, 9)\n",
      "Shape of y_train is : (47504,)\n",
      "Shape of X_test is : (11877, 9)\n",
      "Shape of y_test is : (11877,)\n"
     ]
    }
   ],
   "source": [
    "print('Shape of X_train is :', X_train.shape)\n",
    "print('Shape of y_train is :',y_train.shape)\n",
    "print('Shape of X_test is :', X_test.shape)\n",
    "print('Shape of y_test is :',y_test.shape)"
   ]
  },
  {
   "cell_type": "code",
   "execution_count": 66,
   "metadata": {},
   "outputs": [
    {
     "name": "stdout",
     "output_type": "stream",
     "text": [
      "y train unique values  [5 8 6 1 7 2 4 3]\n",
      "y test unique values  [8 6 2 5 1 7 3 4]\n"
     ]
    }
   ],
   "source": [
    "# check if the train data covers all classes\n",
    "print(\"y train unique values \" ,  y_train.unique())\n",
    "print(\"y test unique values \" , y_test.unique())"
   ]
  },
  {
   "cell_type": "code",
   "execution_count": 67,
   "metadata": {},
   "outputs": [],
   "source": [
    "from sklearn.metrics import accuracy_score,confusion_matrix\n",
    "from sklearn.model_selection import cross_val_score,GridSearchCV\n"
   ]
  },
  {
   "cell_type": "markdown",
   "metadata": {},
   "source": [
    "### Model 1 - Decision Tree"
   ]
  },
  {
   "cell_type": "code",
   "execution_count": 68,
   "metadata": {},
   "outputs": [],
   "source": [
    "# Using a Decision Tree classifier without any attributes\n",
    "from sklearn.tree import DecisionTreeClassifier\n",
    "DT1=DecisionTreeClassifier()\n",
    "model_DT1=DT1.fit(X_train,y_train)\n",
    "y_pred=model_DT1.predict(X_test)"
   ]
  },
  {
   "cell_type": "code",
   "execution_count": 69,
   "metadata": {},
   "outputs": [
    {
     "name": "stdout",
     "output_type": "stream",
     "text": [
      "Accuracy with all default:  0.3666750863012545\n"
     ]
    }
   ],
   "source": [
    "dt_acc=accuracy_score(y_test,y_pred)\n",
    "print(\"Accuracy with all default: \" , dt_acc)\n",
    "results_approach2 = pd.DataFrame()"
   ]
  },
  {
   "cell_type": "code",
   "execution_count": 70,
   "metadata": {},
   "outputs": [
    {
     "data": {
      "text/html": [
       "<div>\n",
       "<style scoped>\n",
       "    .dataframe tbody tr th:only-of-type {\n",
       "        vertical-align: middle;\n",
       "    }\n",
       "\n",
       "    .dataframe tbody tr th {\n",
       "        vertical-align: top;\n",
       "    }\n",
       "\n",
       "    .dataframe thead th {\n",
       "        text-align: right;\n",
       "    }\n",
       "</style>\n",
       "<table border=\"1\" class=\"dataframe\">\n",
       "  <thead>\n",
       "    <tr style=\"text-align: right;\">\n",
       "      <th></th>\n",
       "      <th>Algorithm</th>\n",
       "      <th>Accuracy</th>\n",
       "    </tr>\n",
       "  </thead>\n",
       "  <tbody>\n",
       "    <tr>\n",
       "      <th>0</th>\n",
       "      <td>Decision Tree Method with default values</td>\n",
       "      <td>0.366675</td>\n",
       "    </tr>\n",
       "  </tbody>\n",
       "</table>\n",
       "</div>"
      ],
      "text/plain": [
       "                                  Algorithm  Accuracy\n",
       "0  Decision Tree Method with default values  0.366675"
      ]
     },
     "execution_count": 70,
     "metadata": {},
     "output_type": "execute_result"
    }
   ],
   "source": [
    "tempResults = pd.DataFrame({'Algorithm':['Decision Tree Method with default values'], 'Accuracy':[dt_acc]})\n",
    "results_approach2 = pd.concat( [results_approach2, tempResults] )\n",
    "results_approach2 = results_approach2[['Algorithm','Accuracy']]\n",
    "results_approach2"
   ]
  },
  {
   "cell_type": "markdown",
   "metadata": {},
   "source": [
    "#### Hypertuning parameters"
   ]
  },
  {
   "cell_type": "code",
   "execution_count": 71,
   "metadata": {},
   "outputs": [
    {
     "name": "stdout",
     "output_type": "stream",
     "text": [
      "Accuracy with Entropy and max_dept=10 :  0.5058516460385619\n"
     ]
    }
   ],
   "source": [
    "# Using a Decision Tree classifier with Random_state, Criterion , max_depth\n",
    "#from sklearn.tree import DecisionTreeClassifier\n",
    "DT2=DecisionTreeClassifier(random_state = 0, criterion='entropy', max_depth=10)\n",
    "model_DT2=DT2.fit(X_train,y_train)\n",
    "y_pred=model_DT2.predict(X_test)\n",
    "\n",
    "dt_acc_hp1=accuracy_score(y_test,y_pred)\n",
    "print(\"Accuracy with Entropy and max_dept=10 : \" ,dt_acc_hp1)"
   ]
  },
  {
   "cell_type": "code",
   "execution_count": 72,
   "metadata": {},
   "outputs": [
    {
     "data": {
      "text/html": [
       "<div>\n",
       "<style scoped>\n",
       "    .dataframe tbody tr th:only-of-type {\n",
       "        vertical-align: middle;\n",
       "    }\n",
       "\n",
       "    .dataframe tbody tr th {\n",
       "        vertical-align: top;\n",
       "    }\n",
       "\n",
       "    .dataframe thead th {\n",
       "        text-align: right;\n",
       "    }\n",
       "</style>\n",
       "<table border=\"1\" class=\"dataframe\">\n",
       "  <thead>\n",
       "    <tr style=\"text-align: right;\">\n",
       "      <th></th>\n",
       "      <th>Algorithm</th>\n",
       "      <th>Accuracy</th>\n",
       "    </tr>\n",
       "  </thead>\n",
       "  <tbody>\n",
       "    <tr>\n",
       "      <th>0</th>\n",
       "      <td>Decision Tree Method with default values</td>\n",
       "      <td>0.366675</td>\n",
       "    </tr>\n",
       "    <tr>\n",
       "      <th>0</th>\n",
       "      <td>Decision Tree with Hypertuning</td>\n",
       "      <td>0.505852</td>\n",
       "    </tr>\n",
       "  </tbody>\n",
       "</table>\n",
       "</div>"
      ],
      "text/plain": [
       "                                  Algorithm  Accuracy\n",
       "0  Decision Tree Method with default values  0.366675\n",
       "0            Decision Tree with Hypertuning  0.505852"
      ]
     },
     "execution_count": 72,
     "metadata": {},
     "output_type": "execute_result"
    }
   ],
   "source": [
    "tempResults = pd.DataFrame({'Algorithm':['Decision Tree with Hypertuning'], 'Accuracy':[dt_acc_hp1]})\n",
    "results_approach2 = pd.concat( [results_approach2, tempResults] )\n",
    "results_approach2 = results_approach2[['Algorithm','Accuracy']]\n",
    "results_approach2"
   ]
  },
  {
   "cell_type": "markdown",
   "metadata": {},
   "source": [
    "## Model 2 - Decision Tree Classifier with GridSearchCV"
   ]
  },
  {
   "cell_type": "code",
   "execution_count": 73,
   "metadata": {},
   "outputs": [
    {
     "name": "stdout",
     "output_type": "stream",
     "text": [
      "Accuracy with GridSearchCV:  0.5073671802643765\n"
     ]
    }
   ],
   "source": [
    "# Using a Decision Tree classifier with GridSearchCV\n",
    "from sklearn.tree import DecisionTreeClassifier\n",
    "param_grid={'max_depth':range(1,20,2)}\n",
    "DT=DecisionTreeClassifier()\n",
    "clf_DT=GridSearchCV(DT,param_grid,cv=10,scoring='accuracy',n_jobs=-1).fit(X_train,y_train)\n",
    "model_DT=clf_DT.fit(X_train,y_train)\n",
    "y_pred=model_DT.predict(X_test)\n",
    "dt_acc_grid=accuracy_score(y_test,y_pred)\n",
    "print(\"Accuracy with GridSearchCV: \" ,dt_acc_grid)"
   ]
  },
  {
   "cell_type": "code",
   "execution_count": 74,
   "metadata": {},
   "outputs": [
    {
     "data": {
      "text/html": [
       "<div>\n",
       "<style scoped>\n",
       "    .dataframe tbody tr th:only-of-type {\n",
       "        vertical-align: middle;\n",
       "    }\n",
       "\n",
       "    .dataframe tbody tr th {\n",
       "        vertical-align: top;\n",
       "    }\n",
       "\n",
       "    .dataframe thead th {\n",
       "        text-align: right;\n",
       "    }\n",
       "</style>\n",
       "<table border=\"1\" class=\"dataframe\">\n",
       "  <thead>\n",
       "    <tr style=\"text-align: right;\">\n",
       "      <th></th>\n",
       "      <th>Algorithm</th>\n",
       "      <th>Accuracy</th>\n",
       "    </tr>\n",
       "  </thead>\n",
       "  <tbody>\n",
       "    <tr>\n",
       "      <th>0</th>\n",
       "      <td>Decision Tree Method with default values</td>\n",
       "      <td>0.366675</td>\n",
       "    </tr>\n",
       "    <tr>\n",
       "      <th>0</th>\n",
       "      <td>Decision Tree with Hypertuning</td>\n",
       "      <td>0.505852</td>\n",
       "    </tr>\n",
       "    <tr>\n",
       "      <th>0</th>\n",
       "      <td>Decision Tree with GridSearchCV</td>\n",
       "      <td>0.507367</td>\n",
       "    </tr>\n",
       "  </tbody>\n",
       "</table>\n",
       "</div>"
      ],
      "text/plain": [
       "                                  Algorithm  Accuracy\n",
       "0  Decision Tree Method with default values  0.366675\n",
       "0            Decision Tree with Hypertuning  0.505852\n",
       "0           Decision Tree with GridSearchCV  0.507367"
      ]
     },
     "execution_count": 74,
     "metadata": {},
     "output_type": "execute_result"
    }
   ],
   "source": [
    "tempResults = pd.DataFrame({'Algorithm':['Decision Tree with GridSearchCV'], 'Accuracy':[dt_acc_grid]})\n",
    "results_approach2 = pd.concat( [results_approach2, tempResults] )\n",
    "results_approach2 = results_approach2[['Algorithm','Accuracy']]\n",
    "results_approach2"
   ]
  },
  {
   "cell_type": "markdown",
   "metadata": {},
   "source": [
    "### Model 3 - Logistic Regression"
   ]
  },
  {
   "cell_type": "code",
   "execution_count": 75,
   "metadata": {},
   "outputs": [
    {
     "name": "stdout",
     "output_type": "stream",
     "text": [
      "Accuracy score for the Logistic model: 0.4517133956386293\n"
     ]
    }
   ],
   "source": [
    "from sklearn.linear_model import LogisticRegression\n",
    "logis = LogisticRegression()\n",
    "logis.fit(X_train, y_train)\n",
    "y_pred = logis.predict(X_test)\n",
    "logit_accuracy = accuracy_score(y_test,y_pred)\n",
    "print('Accuracy score for the Logistic model:', logit_accuracy)"
   ]
  },
  {
   "cell_type": "code",
   "execution_count": 76,
   "metadata": {},
   "outputs": [
    {
     "name": "stdout",
     "output_type": "stream",
     "text": [
      "Accuracy score for the Logistic model: 0.45524964216553\n"
     ]
    }
   ],
   "source": [
    "from sklearn.linear_model import LogisticRegression\n",
    "logis = LogisticRegression(penalty=\"none\")\n",
    "logis.fit(X_train, y_train)\n",
    "y_pred = logis.predict(X_test)\n",
    "logit_accuracy = accuracy_score(y_test,y_pred)\n",
    "print('Accuracy score for the Logistic model:', logit_accuracy)"
   ]
  },
  {
   "cell_type": "code",
   "execution_count": 77,
   "metadata": {},
   "outputs": [
    {
     "data": {
      "text/html": [
       "<div>\n",
       "<style scoped>\n",
       "    .dataframe tbody tr th:only-of-type {\n",
       "        vertical-align: middle;\n",
       "    }\n",
       "\n",
       "    .dataframe tbody tr th {\n",
       "        vertical-align: top;\n",
       "    }\n",
       "\n",
       "    .dataframe thead th {\n",
       "        text-align: right;\n",
       "    }\n",
       "</style>\n",
       "<table border=\"1\" class=\"dataframe\">\n",
       "  <thead>\n",
       "    <tr style=\"text-align: right;\">\n",
       "      <th></th>\n",
       "      <th>Algorithm</th>\n",
       "      <th>Accuracy</th>\n",
       "    </tr>\n",
       "  </thead>\n",
       "  <tbody>\n",
       "    <tr>\n",
       "      <th>0</th>\n",
       "      <td>Decision Tree Method with default values</td>\n",
       "      <td>0.366675</td>\n",
       "    </tr>\n",
       "    <tr>\n",
       "      <th>0</th>\n",
       "      <td>Decision Tree with Hypertuning</td>\n",
       "      <td>0.505852</td>\n",
       "    </tr>\n",
       "    <tr>\n",
       "      <th>0</th>\n",
       "      <td>Decision Tree with GridSearchCV</td>\n",
       "      <td>0.507367</td>\n",
       "    </tr>\n",
       "    <tr>\n",
       "      <th>0</th>\n",
       "      <td>Logistic Regression</td>\n",
       "      <td>0.455250</td>\n",
       "    </tr>\n",
       "  </tbody>\n",
       "</table>\n",
       "</div>"
      ],
      "text/plain": [
       "                                  Algorithm  Accuracy\n",
       "0  Decision Tree Method with default values  0.366675\n",
       "0            Decision Tree with Hypertuning  0.505852\n",
       "0           Decision Tree with GridSearchCV  0.507367\n",
       "0                       Logistic Regression  0.455250"
      ]
     },
     "execution_count": 77,
     "metadata": {},
     "output_type": "execute_result"
    }
   ],
   "source": [
    "tempResults = pd.DataFrame({'Algorithm':['Logistic Regression'], 'Accuracy':[logit_accuracy]})\n",
    "results_approach2 = pd.concat( [results_approach2, tempResults] )\n",
    "results_approach2 = results_approach2[['Algorithm','Accuracy']]\n",
    "results_approach2"
   ]
  },
  {
   "cell_type": "markdown",
   "metadata": {},
   "source": [
    "#### Model 4 - Random Forest Classifier"
   ]
  },
  {
   "cell_type": "code",
   "execution_count": 78,
   "metadata": {},
   "outputs": [],
   "source": [
    "from sklearn.ensemble import RandomForestClassifier\n",
    "model1 = RandomForestClassifier(random_state = 0)"
   ]
  },
  {
   "cell_type": "code",
   "execution_count": 79,
   "metadata": {},
   "outputs": [],
   "source": [
    "model2 = RandomForestClassifier(criterion='entropy',\n",
    "                                n_estimators=6,\n",
    "                                random_state = 0,\n",
    "                                max_depth=7,\n",
    "                                min_samples_split=5,\n",
    "                                min_samples_leaf=4,\n",
    "                                max_leaf_nodes=5,\n",
    "                                n_jobs=-1,\n",
    "                                )"
   ]
  },
  {
   "cell_type": "code",
   "execution_count": 80,
   "metadata": {},
   "outputs": [],
   "source": [
    "model1.fit(X_train,y_train)\n",
    "prediction1 = pd.DataFrame()\n",
    "prediction1 = model1.predict(X_test)"
   ]
  },
  {
   "cell_type": "code",
   "execution_count": 81,
   "metadata": {},
   "outputs": [],
   "source": [
    "model2.fit(X_train,y_train)\n",
    "prediction2 = pd.DataFrame()\n",
    "prediction2 = model2.predict(X_test)"
   ]
  },
  {
   "cell_type": "code",
   "execution_count": 82,
   "metadata": {},
   "outputs": [
    {
     "name": "stdout",
     "output_type": "stream",
     "text": [
      "Accuracy score for test data with model 1 is: 0.4656057927085964\n",
      "Accuracy score for test data with model 2 is: 0.4411046560579271\n"
     ]
    }
   ],
   "source": [
    "from sklearn.metrics import accuracy_score\n",
    "print('Accuracy score for test data with model 1 is:',accuracy_score(y_test, prediction1))\n",
    "print('Accuracy score for test data with model 2 is:',accuracy_score(y_test, prediction2))"
   ]
  },
  {
   "cell_type": "code",
   "execution_count": 83,
   "metadata": {},
   "outputs": [
    {
     "data": {
      "text/html": [
       "<div>\n",
       "<style scoped>\n",
       "    .dataframe tbody tr th:only-of-type {\n",
       "        vertical-align: middle;\n",
       "    }\n",
       "\n",
       "    .dataframe tbody tr th {\n",
       "        vertical-align: top;\n",
       "    }\n",
       "\n",
       "    .dataframe thead th {\n",
       "        text-align: right;\n",
       "    }\n",
       "</style>\n",
       "<table border=\"1\" class=\"dataframe\">\n",
       "  <thead>\n",
       "    <tr style=\"text-align: right;\">\n",
       "      <th></th>\n",
       "      <th>Algorithm</th>\n",
       "      <th>Accuracy</th>\n",
       "    </tr>\n",
       "  </thead>\n",
       "  <tbody>\n",
       "    <tr>\n",
       "      <th>0</th>\n",
       "      <td>Decision Tree Method with default values</td>\n",
       "      <td>0.366675</td>\n",
       "    </tr>\n",
       "    <tr>\n",
       "      <th>0</th>\n",
       "      <td>Decision Tree with Hypertuning</td>\n",
       "      <td>0.505852</td>\n",
       "    </tr>\n",
       "    <tr>\n",
       "      <th>0</th>\n",
       "      <td>Decision Tree with GridSearchCV</td>\n",
       "      <td>0.507367</td>\n",
       "    </tr>\n",
       "    <tr>\n",
       "      <th>0</th>\n",
       "      <td>Logistic Regression</td>\n",
       "      <td>0.455250</td>\n",
       "    </tr>\n",
       "    <tr>\n",
       "      <th>0</th>\n",
       "      <td>Random Forest Classifier</td>\n",
       "      <td>0.465606</td>\n",
       "    </tr>\n",
       "  </tbody>\n",
       "</table>\n",
       "</div>"
      ],
      "text/plain": [
       "                                  Algorithm  Accuracy\n",
       "0  Decision Tree Method with default values  0.366675\n",
       "0            Decision Tree with Hypertuning  0.505852\n",
       "0           Decision Tree with GridSearchCV  0.507367\n",
       "0                       Logistic Regression  0.455250\n",
       "0                  Random Forest Classifier  0.465606"
      ]
     },
     "execution_count": 83,
     "metadata": {},
     "output_type": "execute_result"
    }
   ],
   "source": [
    "tempResults = pd.DataFrame({'Algorithm':['Random Forest Classifier'], 'Accuracy':accuracy_score(y_test, prediction1)})\n",
    "results_approach2 = pd.concat( [results_approach2, tempResults] )\n",
    "results_approach2 = results_approach2[['Algorithm','Accuracy']]\n",
    "results_approach2"
   ]
  },
  {
   "cell_type": "markdown",
   "metadata": {},
   "source": [
    "<a id=\"model\"></a> **Model Evaluation for Random Forest model** <br>Hence, will be using accuracy score for the model performance evaluation. However, applying f1 score, precision, classification report for learning purpose\n"
   ]
  },
  {
   "cell_type": "code",
   "execution_count": 84,
   "metadata": {},
   "outputs": [
    {
     "name": "stdout",
     "output_type": "stream",
     "text": [
      "Confusion matrix for test data with model 1 is:\n",
      " [[ 181  199   18   15  139  268  152  288]\n",
      " [ 158  327   11   13  164  246  129  242]\n",
      " [  20   32   24    7   39   69   10   25]\n",
      " [  16   18    3   26    6   96   18   76]\n",
      " [  74  124   20    4  508  203   69   97]\n",
      " [ 186  144   18   48  140  858  306  555]\n",
      " [  82   70    4   12   35  336  535  538]\n",
      " [  91   87    6   42   17  308  254 3071]]\n",
      "Confusion matrix for test data with model 2 is:\n",
      " [[   0    1    0    0   74  613  107  465]\n",
      " [   0    1    0    0   78  716   82  413]\n",
      " [   0    0    0    0   20  132    3   71]\n",
      " [   0    0    0    0    0   87    0  172]\n",
      " [   0    2    0    0  199  662   33  203]\n",
      " [   0    0    0    0    0 1131  108 1016]\n",
      " [   0    0    0    0    0  563  245  804]\n",
      " [   0    0    0    0    0  182   31 3663]]\n"
     ]
    }
   ],
   "source": [
    "from sklearn.metrics import confusion_matrix\n",
    "print('Confusion matrix for test data with model 1 is:\\n',confusion_matrix(y_test, prediction1))\n",
    "print('Confusion matrix for test data with model 2 is:\\n',confusion_matrix(y_test, prediction2))"
   ]
  },
  {
   "cell_type": "code",
   "execution_count": 85,
   "metadata": {},
   "outputs": [
    {
     "name": "stdout",
     "output_type": "stream",
     "text": [
      "F1_score for test data using model1 is: 0.4656057927085964\n",
      "F1_score for test data using model2 is: 0.4411046560579271\n"
     ]
    }
   ],
   "source": [
    "from sklearn.metrics import f1_score\n",
    "print('F1_score for test data using model1 is:',f1_score(y_test, prediction1,average='micro'))\n",
    "print('F1_score for test data using model2 is:',f1_score(y_test, prediction2, average='micro'))"
   ]
  },
  {
   "cell_type": "code",
   "execution_count": 86,
   "metadata": {},
   "outputs": [
    {
     "name": "stdout",
     "output_type": "stream",
     "text": [
      "Precision score for test data using model1 is: 0.4656057927085964\n",
      "Precision score for test data using model2 is: 0.4411046560579271\n"
     ]
    }
   ],
   "source": [
    "from sklearn.metrics import precision_score\n",
    "precision1 = precision_score(y_test,prediction1,average='micro')\n",
    "print('Precision score for test data using model1 is:', precision1)\n",
    "precision2 = precision_score(y_test,prediction2,average='micro')\n",
    "print('Precision score for test data using model2 is:', precision2)"
   ]
  },
  {
   "cell_type": "code",
   "execution_count": 87,
   "metadata": {
    "scrolled": true
   },
   "outputs": [
    {
     "name": "stdout",
     "output_type": "stream",
     "text": [
      "              precision    recall  f1-score   support\n",
      "\n",
      "           1       0.00      0.00      0.00      1260\n",
      "           2       0.25      0.00      0.00      1290\n",
      "           3       0.00      0.00      0.00       226\n",
      "           4       0.00      0.00      0.00       259\n",
      "           5       0.54      0.18      0.27      1099\n",
      "           6       0.28      0.50      0.36      2255\n",
      "           7       0.40      0.15      0.22      1612\n",
      "           8       0.54      0.95      0.69      3876\n",
      "\n",
      "    accuracy                           0.44     11877\n",
      "   macro avg       0.25      0.22      0.19     11877\n",
      "weighted avg       0.36      0.44      0.35     11877\n",
      "\n"
     ]
    }
   ],
   "source": [
    "from sklearn.metrics import classification_report\n",
    "print(classification_report(y_test,prediction2))"
   ]
  },
  {
   "cell_type": "markdown",
   "metadata": {},
   "source": [
    "### End of Model development based on Approach 2\n",
    "\n"
   ]
  },
  {
   "cell_type": "code",
   "execution_count": 88,
   "metadata": {},
   "outputs": [
    {
     "data": {
      "text/html": [
       "<div>\n",
       "<style scoped>\n",
       "    .dataframe tbody tr th:only-of-type {\n",
       "        vertical-align: middle;\n",
       "    }\n",
       "\n",
       "    .dataframe tbody tr th {\n",
       "        vertical-align: top;\n",
       "    }\n",
       "\n",
       "    .dataframe thead th {\n",
       "        text-align: right;\n",
       "    }\n",
       "</style>\n",
       "<table border=\"1\" class=\"dataframe\">\n",
       "  <thead>\n",
       "    <tr style=\"text-align: right;\">\n",
       "      <th></th>\n",
       "      <th>Id</th>\n",
       "      <th>Product_Info_1</th>\n",
       "      <th>Product_Info_3</th>\n",
       "      <th>Product_Info_4</th>\n",
       "      <th>Product_Info_5</th>\n",
       "      <th>Product_Info_6</th>\n",
       "      <th>Product_Info_7</th>\n",
       "      <th>Ins_Age</th>\n",
       "      <th>Ht</th>\n",
       "      <th>Wt</th>\n",
       "      <th>...</th>\n",
       "      <th>Product_Info_2_B2</th>\n",
       "      <th>Product_Info_2_C1</th>\n",
       "      <th>Product_Info_2_C2</th>\n",
       "      <th>Product_Info_2_C3</th>\n",
       "      <th>Product_Info_2_C4</th>\n",
       "      <th>Product_Info_2_D1</th>\n",
       "      <th>Product_Info_2_D2</th>\n",
       "      <th>Product_Info_2_D3</th>\n",
       "      <th>Product_Info_2_D4</th>\n",
       "      <th>Product_Info_2_E1</th>\n",
       "    </tr>\n",
       "  </thead>\n",
       "  <tbody>\n",
       "    <tr>\n",
       "      <th>Id</th>\n",
       "      <td>1.000000</td>\n",
       "      <td>-0.002870</td>\n",
       "      <td>-0.001869</td>\n",
       "      <td>-0.002914</td>\n",
       "      <td>-0.004195</td>\n",
       "      <td>0.005038</td>\n",
       "      <td>0.002117</td>\n",
       "      <td>0.001764</td>\n",
       "      <td>0.003674</td>\n",
       "      <td>0.005648</td>\n",
       "      <td>...</td>\n",
       "      <td>0.000164</td>\n",
       "      <td>-0.001426</td>\n",
       "      <td>0.000232</td>\n",
       "      <td>-0.009268</td>\n",
       "      <td>-0.004578</td>\n",
       "      <td>-0.007424</td>\n",
       "      <td>0.001273</td>\n",
       "      <td>0.001423</td>\n",
       "      <td>0.007017</td>\n",
       "      <td>-0.006821</td>\n",
       "    </tr>\n",
       "    <tr>\n",
       "      <th>Product_Info_1</th>\n",
       "      <td>-0.002870</td>\n",
       "      <td>1.000000</td>\n",
       "      <td>0.027573</td>\n",
       "      <td>0.059829</td>\n",
       "      <td>0.069720</td>\n",
       "      <td>-0.078684</td>\n",
       "      <td>0.012169</td>\n",
       "      <td>-0.077429</td>\n",
       "      <td>0.052720</td>\n",
       "      <td>-0.004035</td>\n",
       "      <td>...</td>\n",
       "      <td>0.010369</td>\n",
       "      <td>-0.002299</td>\n",
       "      <td>-0.000440</td>\n",
       "      <td>-0.004500</td>\n",
       "      <td>0.005599</td>\n",
       "      <td>0.004116</td>\n",
       "      <td>-0.013213</td>\n",
       "      <td>0.009723</td>\n",
       "      <td>0.023441</td>\n",
       "      <td>0.000630</td>\n",
       "    </tr>\n",
       "    <tr>\n",
       "      <th>Product_Info_3</th>\n",
       "      <td>-0.001869</td>\n",
       "      <td>0.027573</td>\n",
       "      <td>1.000000</td>\n",
       "      <td>0.048775</td>\n",
       "      <td>0.025419</td>\n",
       "      <td>-0.018855</td>\n",
       "      <td>0.015581</td>\n",
       "      <td>0.001005</td>\n",
       "      <td>0.293546</td>\n",
       "      <td>0.213546</td>\n",
       "      <td>...</td>\n",
       "      <td>-0.002935</td>\n",
       "      <td>0.000794</td>\n",
       "      <td>-0.003042</td>\n",
       "      <td>-0.006732</td>\n",
       "      <td>-0.003999</td>\n",
       "      <td>0.039758</td>\n",
       "      <td>0.013393</td>\n",
       "      <td>0.005024</td>\n",
       "      <td>-0.018616</td>\n",
       "      <td>-0.005602</td>\n",
       "    </tr>\n",
       "    <tr>\n",
       "      <th>Product_Info_4</th>\n",
       "      <td>-0.002914</td>\n",
       "      <td>0.059829</td>\n",
       "      <td>0.048775</td>\n",
       "      <td>1.000000</td>\n",
       "      <td>0.040433</td>\n",
       "      <td>-0.089075</td>\n",
       "      <td>0.051542</td>\n",
       "      <td>-0.261356</td>\n",
       "      <td>0.141780</td>\n",
       "      <td>-0.028041</td>\n",
       "      <td>...</td>\n",
       "      <td>0.041128</td>\n",
       "      <td>0.002465</td>\n",
       "      <td>-0.000510</td>\n",
       "      <td>0.001497</td>\n",
       "      <td>0.019834</td>\n",
       "      <td>-0.004137</td>\n",
       "      <td>-0.031168</td>\n",
       "      <td>0.101744</td>\n",
       "      <td>0.241710</td>\n",
       "      <td>-0.081287</td>\n",
       "    </tr>\n",
       "    <tr>\n",
       "      <th>Product_Info_5</th>\n",
       "      <td>-0.004195</td>\n",
       "      <td>0.069720</td>\n",
       "      <td>0.025419</td>\n",
       "      <td>0.040433</td>\n",
       "      <td>1.000000</td>\n",
       "      <td>-0.045840</td>\n",
       "      <td>0.019435</td>\n",
       "      <td>0.006543</td>\n",
       "      <td>0.054495</td>\n",
       "      <td>0.022393</td>\n",
       "      <td>...</td>\n",
       "      <td>-0.004173</td>\n",
       "      <td>0.005916</td>\n",
       "      <td>-0.000441</td>\n",
       "      <td>-0.000363</td>\n",
       "      <td>-0.001749</td>\n",
       "      <td>0.023549</td>\n",
       "      <td>0.007430</td>\n",
       "      <td>0.003977</td>\n",
       "      <td>-0.000104</td>\n",
       "      <td>-0.005312</td>\n",
       "    </tr>\n",
       "    <tr>\n",
       "      <th>...</th>\n",
       "      <td>...</td>\n",
       "      <td>...</td>\n",
       "      <td>...</td>\n",
       "      <td>...</td>\n",
       "      <td>...</td>\n",
       "      <td>...</td>\n",
       "      <td>...</td>\n",
       "      <td>...</td>\n",
       "      <td>...</td>\n",
       "      <td>...</td>\n",
       "      <td>...</td>\n",
       "      <td>...</td>\n",
       "      <td>...</td>\n",
       "      <td>...</td>\n",
       "      <td>...</td>\n",
       "      <td>...</td>\n",
       "      <td>...</td>\n",
       "      <td>...</td>\n",
       "      <td>...</td>\n",
       "      <td>...</td>\n",
       "      <td>...</td>\n",
       "    </tr>\n",
       "    <tr>\n",
       "      <th>Product_Info_2_D1</th>\n",
       "      <td>-0.007424</td>\n",
       "      <td>0.004116</td>\n",
       "      <td>0.039758</td>\n",
       "      <td>-0.004137</td>\n",
       "      <td>0.023549</td>\n",
       "      <td>-0.018671</td>\n",
       "      <td>0.016265</td>\n",
       "      <td>0.214311</td>\n",
       "      <td>0.088208</td>\n",
       "      <td>0.090272</td>\n",
       "      <td>...</td>\n",
       "      <td>-0.048881</td>\n",
       "      <td>-0.024461</td>\n",
       "      <td>-0.018308</td>\n",
       "      <td>-0.025350</td>\n",
       "      <td>-0.021430</td>\n",
       "      <td>1.000000</td>\n",
       "      <td>-0.121195</td>\n",
       "      <td>-0.198571</td>\n",
       "      <td>-0.166188</td>\n",
       "      <td>-0.076082</td>\n",
       "    </tr>\n",
       "    <tr>\n",
       "      <th>Product_Info_2_D2</th>\n",
       "      <td>0.001273</td>\n",
       "      <td>-0.013213</td>\n",
       "      <td>0.013393</td>\n",
       "      <td>-0.031168</td>\n",
       "      <td>0.007430</td>\n",
       "      <td>-0.009350</td>\n",
       "      <td>0.010882</td>\n",
       "      <td>0.214696</td>\n",
       "      <td>0.059978</td>\n",
       "      <td>0.074766</td>\n",
       "      <td>...</td>\n",
       "      <td>-0.047750</td>\n",
       "      <td>-0.023895</td>\n",
       "      <td>-0.017885</td>\n",
       "      <td>-0.024764</td>\n",
       "      <td>-0.020934</td>\n",
       "      <td>-0.121195</td>\n",
       "      <td>1.000000</td>\n",
       "      <td>-0.193978</td>\n",
       "      <td>-0.162343</td>\n",
       "      <td>-0.074322</td>\n",
       "    </tr>\n",
       "    <tr>\n",
       "      <th>Product_Info_2_D3</th>\n",
       "      <td>0.001423</td>\n",
       "      <td>0.009723</td>\n",
       "      <td>0.005024</td>\n",
       "      <td>0.101744</td>\n",
       "      <td>0.003977</td>\n",
       "      <td>0.012803</td>\n",
       "      <td>0.019936</td>\n",
       "      <td>-0.006591</td>\n",
       "      <td>0.082990</td>\n",
       "      <td>0.084567</td>\n",
       "      <td>...</td>\n",
       "      <td>-0.078236</td>\n",
       "      <td>-0.039150</td>\n",
       "      <td>-0.029303</td>\n",
       "      <td>-0.040574</td>\n",
       "      <td>-0.034300</td>\n",
       "      <td>-0.198571</td>\n",
       "      <td>-0.193978</td>\n",
       "      <td>1.000000</td>\n",
       "      <td>-0.265990</td>\n",
       "      <td>-0.121772</td>\n",
       "    </tr>\n",
       "    <tr>\n",
       "      <th>Product_Info_2_D4</th>\n",
       "      <td>0.007017</td>\n",
       "      <td>0.023441</td>\n",
       "      <td>-0.018616</td>\n",
       "      <td>0.241710</td>\n",
       "      <td>-0.000104</td>\n",
       "      <td>0.002187</td>\n",
       "      <td>0.013719</td>\n",
       "      <td>-0.333044</td>\n",
       "      <td>0.007460</td>\n",
       "      <td>-0.062270</td>\n",
       "      <td>...</td>\n",
       "      <td>-0.065477</td>\n",
       "      <td>-0.032766</td>\n",
       "      <td>-0.024524</td>\n",
       "      <td>-0.033957</td>\n",
       "      <td>-0.028706</td>\n",
       "      <td>-0.166188</td>\n",
       "      <td>-0.162343</td>\n",
       "      <td>-0.265990</td>\n",
       "      <td>1.000000</td>\n",
       "      <td>-0.101913</td>\n",
       "    </tr>\n",
       "    <tr>\n",
       "      <th>Product_Info_2_E1</th>\n",
       "      <td>-0.006821</td>\n",
       "      <td>0.000630</td>\n",
       "      <td>-0.005602</td>\n",
       "      <td>-0.081287</td>\n",
       "      <td>-0.005312</td>\n",
       "      <td>-0.004418</td>\n",
       "      <td>-0.013798</td>\n",
       "      <td>-0.031524</td>\n",
       "      <td>-0.044144</td>\n",
       "      <td>-0.045979</td>\n",
       "      <td>...</td>\n",
       "      <td>-0.029976</td>\n",
       "      <td>-0.015000</td>\n",
       "      <td>-0.011227</td>\n",
       "      <td>-0.015546</td>\n",
       "      <td>-0.013142</td>\n",
       "      <td>-0.076082</td>\n",
       "      <td>-0.074322</td>\n",
       "      <td>-0.121772</td>\n",
       "      <td>-0.101913</td>\n",
       "      <td>1.000000</td>\n",
       "    </tr>\n",
       "  </tbody>\n",
       "</table>\n",
       "<p>137 rows × 137 columns</p>\n",
       "</div>"
      ],
      "text/plain": [
       "                         Id  Product_Info_1  Product_Info_3  Product_Info_4  \\\n",
       "Id                 1.000000       -0.002870       -0.001869       -0.002914   \n",
       "Product_Info_1    -0.002870        1.000000        0.027573        0.059829   \n",
       "Product_Info_3    -0.001869        0.027573        1.000000        0.048775   \n",
       "Product_Info_4    -0.002914        0.059829        0.048775        1.000000   \n",
       "Product_Info_5    -0.004195        0.069720        0.025419        0.040433   \n",
       "...                     ...             ...             ...             ...   \n",
       "Product_Info_2_D1 -0.007424        0.004116        0.039758       -0.004137   \n",
       "Product_Info_2_D2  0.001273       -0.013213        0.013393       -0.031168   \n",
       "Product_Info_2_D3  0.001423        0.009723        0.005024        0.101744   \n",
       "Product_Info_2_D4  0.007017        0.023441       -0.018616        0.241710   \n",
       "Product_Info_2_E1 -0.006821        0.000630       -0.005602       -0.081287   \n",
       "\n",
       "                   Product_Info_5  Product_Info_6  Product_Info_7   Ins_Age  \\\n",
       "Id                      -0.004195        0.005038        0.002117  0.001764   \n",
       "Product_Info_1           0.069720       -0.078684        0.012169 -0.077429   \n",
       "Product_Info_3           0.025419       -0.018855        0.015581  0.001005   \n",
       "Product_Info_4           0.040433       -0.089075        0.051542 -0.261356   \n",
       "Product_Info_5           1.000000       -0.045840        0.019435  0.006543   \n",
       "...                           ...             ...             ...       ...   \n",
       "Product_Info_2_D1        0.023549       -0.018671        0.016265  0.214311   \n",
       "Product_Info_2_D2        0.007430       -0.009350        0.010882  0.214696   \n",
       "Product_Info_2_D3        0.003977        0.012803        0.019936 -0.006591   \n",
       "Product_Info_2_D4       -0.000104        0.002187        0.013719 -0.333044   \n",
       "Product_Info_2_E1       -0.005312       -0.004418       -0.013798 -0.031524   \n",
       "\n",
       "                         Ht        Wt  ...  Product_Info_2_B2  \\\n",
       "Id                 0.003674  0.005648  ...           0.000164   \n",
       "Product_Info_1     0.052720 -0.004035  ...           0.010369   \n",
       "Product_Info_3     0.293546  0.213546  ...          -0.002935   \n",
       "Product_Info_4     0.141780 -0.028041  ...           0.041128   \n",
       "Product_Info_5     0.054495  0.022393  ...          -0.004173   \n",
       "...                     ...       ...  ...                ...   \n",
       "Product_Info_2_D1  0.088208  0.090272  ...          -0.048881   \n",
       "Product_Info_2_D2  0.059978  0.074766  ...          -0.047750   \n",
       "Product_Info_2_D3  0.082990  0.084567  ...          -0.078236   \n",
       "Product_Info_2_D4  0.007460 -0.062270  ...          -0.065477   \n",
       "Product_Info_2_E1 -0.044144 -0.045979  ...          -0.029976   \n",
       "\n",
       "                   Product_Info_2_C1  Product_Info_2_C2  Product_Info_2_C3  \\\n",
       "Id                         -0.001426           0.000232          -0.009268   \n",
       "Product_Info_1             -0.002299          -0.000440          -0.004500   \n",
       "Product_Info_3              0.000794          -0.003042          -0.006732   \n",
       "Product_Info_4              0.002465          -0.000510           0.001497   \n",
       "Product_Info_5              0.005916          -0.000441          -0.000363   \n",
       "...                              ...                ...                ...   \n",
       "Product_Info_2_D1          -0.024461          -0.018308          -0.025350   \n",
       "Product_Info_2_D2          -0.023895          -0.017885          -0.024764   \n",
       "Product_Info_2_D3          -0.039150          -0.029303          -0.040574   \n",
       "Product_Info_2_D4          -0.032766          -0.024524          -0.033957   \n",
       "Product_Info_2_E1          -0.015000          -0.011227          -0.015546   \n",
       "\n",
       "                   Product_Info_2_C4  Product_Info_2_D1  Product_Info_2_D2  \\\n",
       "Id                         -0.004578          -0.007424           0.001273   \n",
       "Product_Info_1              0.005599           0.004116          -0.013213   \n",
       "Product_Info_3             -0.003999           0.039758           0.013393   \n",
       "Product_Info_4              0.019834          -0.004137          -0.031168   \n",
       "Product_Info_5             -0.001749           0.023549           0.007430   \n",
       "...                              ...                ...                ...   \n",
       "Product_Info_2_D1          -0.021430           1.000000          -0.121195   \n",
       "Product_Info_2_D2          -0.020934          -0.121195           1.000000   \n",
       "Product_Info_2_D3          -0.034300          -0.198571          -0.193978   \n",
       "Product_Info_2_D4          -0.028706          -0.166188          -0.162343   \n",
       "Product_Info_2_E1          -0.013142          -0.076082          -0.074322   \n",
       "\n",
       "                   Product_Info_2_D3  Product_Info_2_D4  Product_Info_2_E1  \n",
       "Id                          0.001423           0.007017          -0.006821  \n",
       "Product_Info_1              0.009723           0.023441           0.000630  \n",
       "Product_Info_3              0.005024          -0.018616          -0.005602  \n",
       "Product_Info_4              0.101744           0.241710          -0.081287  \n",
       "Product_Info_5              0.003977          -0.000104          -0.005312  \n",
       "...                              ...                ...                ...  \n",
       "Product_Info_2_D1          -0.198571          -0.166188          -0.076082  \n",
       "Product_Info_2_D2          -0.193978          -0.162343          -0.074322  \n",
       "Product_Info_2_D3           1.000000          -0.265990          -0.121772  \n",
       "Product_Info_2_D4          -0.265990           1.000000          -0.101913  \n",
       "Product_Info_2_E1          -0.121772          -0.101913           1.000000  \n",
       "\n",
       "[137 rows x 137 columns]"
      ]
     },
     "execution_count": 88,
     "metadata": {},
     "output_type": "execute_result"
    }
   ],
   "source": [
    "# Lets check for Multicolinearity\n",
    "\n",
    "corr = data.corr()\n",
    "corr"
   ]
  },
  {
   "cell_type": "markdown",
   "metadata": {},
   "source": [
    "<a id=\"appr3\"></a> \n",
    "\n",
    "<font style=\"color:red;font-size: 25px; font-weight:bold\">  Approach 3 -  Feature selection using Variance Inflation Factor (VIF) </font>"
   ]
  },
  {
   "cell_type": "markdown",
   "metadata": {},
   "source": [
    "### Variance Inflation Factor (VIF)"
   ]
  },
  {
   "cell_type": "code",
   "execution_count": 89,
   "metadata": {},
   "outputs": [],
   "source": [
    "# 2. Variance Inflation Factor (VIF)\n",
    "import pandas as pd\n",
    "import matplotlib.pyplot as plt\n",
    "import statsmodels.formula.api as smf\n",
    "from statsmodels.stats.outliers_influence import variance_inflation_factor\n",
    "\n",
    "# data = pd.read_csv('dara.csv', index_col=0)\n",
    "\n",
    "y = data['Response'] # dependent variable\n",
    "X = data.drop(['Response','Id'], axis=1)"
   ]
  },
  {
   "cell_type": "code",
   "execution_count": 90,
   "metadata": {},
   "outputs": [
    {
     "data": {
      "text/plain": [
       "135"
      ]
     },
     "execution_count": 90,
     "metadata": {},
     "output_type": "execute_result"
    }
   ],
   "source": [
    "X.values\n",
    "X.shape\n",
    "len(X.columns)"
   ]
  },
  {
   "cell_type": "code",
   "execution_count": 91,
   "metadata": {},
   "outputs": [],
   "source": [
    "#X=data[['Medical_Keyword_48','Medical_Keyword_47','Medical_Keyword_45']]"
   ]
  },
  {
   "cell_type": "code",
   "execution_count": 92,
   "metadata": {},
   "outputs": [
    {
     "data": {
      "text/plain": [
       "(59381, 135)"
      ]
     },
     "execution_count": 92,
     "metadata": {},
     "output_type": "execute_result"
    }
   ],
   "source": [
    "X.shape"
   ]
  },
  {
   "cell_type": "code",
   "execution_count": 93,
   "metadata": {},
   "outputs": [],
   "source": [
    "#vif = pd.DataFrame()\n",
    "#vif[\"VIF Factor\"] = [variance_inflation_factor(X.values, i) for i in range(10)]\n",
    "\n",
    "#vif[\"features\"] = X.columns\n",
    "\n",
    "#vif[\"VIF Factor\"] = [variance_inflation_factor(X.values, i) for i in range(X.shape[1])]\n",
    "#for i in range(10)]\n",
    "\n",
    "#vif = [variance_inflation_factor(X.values, i) for i in range(X.shape[1])]\n",
    "\n",
    "# VIF dataframe \n",
    "vif_data = pd.DataFrame() \n",
    "vif_data['feature'] = X.columns \n",
    "#vif_data['VIF']=1.1\n",
    "#vif_data['VIF'].dtype\n",
    "# calculating VIF for each feature \n",
    "vif_data[\"VIF\"] = [variance_inflation_factor((X.values), i) for i in range(X.shape[1])] \n"
   ]
  },
  {
   "cell_type": "code",
   "execution_count": 94,
   "metadata": {},
   "outputs": [],
   "source": [
    "vif_data=vif_data[vif_data.VIF<5]"
   ]
  },
  {
   "cell_type": "code",
   "execution_count": 95,
   "metadata": {},
   "outputs": [
    {
     "name": "stdout",
     "output_type": "stream",
     "text": [
      "              feature       VIF\n",
      "0      Product_Info_1  1.031437\n",
      "1      Product_Info_3  2.642384\n",
      "2      Product_Info_4  1.564452\n",
      "3      Product_Info_5  1.016014\n",
      "4      Product_Info_6  1.055939\n",
      "5      Product_Info_7  1.016435\n",
      "6             Ins_Age  2.410671\n",
      "10  Employment_Info_1  1.424037\n",
      "11  Employment_Info_2  2.394211\n",
      "12  Employment_Info_3  2.678575\n"
     ]
    }
   ],
   "source": [
    "print(vif_data.head(10))"
   ]
  },
  {
   "cell_type": "code",
   "execution_count": 96,
   "metadata": {},
   "outputs": [
    {
     "data": {
      "text/plain": [
       "array(['Product_Info_1', 'Product_Info_3', 'Product_Info_4',\n",
       "       'Product_Info_5', 'Product_Info_6', 'Product_Info_7', 'Ins_Age',\n",
       "       'Employment_Info_1', 'Employment_Info_2', 'Employment_Info_3',\n",
       "       'Employment_Info_4', 'Employment_Info_5', 'Employment_Info_6',\n",
       "       'InsuredInfo_1', 'InsuredInfo_2', 'InsuredInfo_3', 'InsuredInfo_4',\n",
       "       'InsuredInfo_5', 'InsuredInfo_6', 'InsuredInfo_7',\n",
       "       'Insurance_History_2', 'Family_Hist_1', 'Medical_History_1',\n",
       "       'Medical_History_2', 'Medical_History_3', 'Medical_History_4',\n",
       "       'Medical_History_5', 'Medical_History_7', 'Medical_History_8',\n",
       "       'Medical_History_9', 'Medical_History_11', 'Medical_History_12',\n",
       "       'Medical_History_14', 'Medical_History_16', 'Medical_History_17',\n",
       "       'Medical_History_18', 'Medical_History_19', 'Medical_History_20',\n",
       "       'Medical_History_21', 'Medical_History_22', 'Medical_History_27',\n",
       "       'Medical_History_28', 'Medical_History_29', 'Medical_History_30',\n",
       "       'Medical_History_31', 'Medical_History_34', 'Medical_History_35',\n",
       "       'Medical_History_38', 'Medical_History_39', 'Medical_History_40',\n",
       "       'Medical_History_41', 'Medical_Keyword_1', 'Medical_Keyword_2',\n",
       "       'Medical_Keyword_3', 'Medical_Keyword_4', 'Medical_Keyword_5',\n",
       "       'Medical_Keyword_6', 'Medical_Keyword_7', 'Medical_Keyword_8',\n",
       "       'Medical_Keyword_9', 'Medical_Keyword_10', 'Medical_Keyword_12',\n",
       "       'Medical_Keyword_13', 'Medical_Keyword_14', 'Medical_Keyword_16',\n",
       "       'Medical_Keyword_17', 'Medical_Keyword_18', 'Medical_Keyword_19',\n",
       "       'Medical_Keyword_20', 'Medical_Keyword_21', 'Medical_Keyword_22',\n",
       "       'Medical_Keyword_24', 'Medical_Keyword_25', 'Medical_Keyword_26',\n",
       "       'Medical_Keyword_27', 'Medical_Keyword_28', 'Medical_Keyword_29',\n",
       "       'Medical_Keyword_30', 'Medical_Keyword_31', 'Medical_Keyword_32',\n",
       "       'Medical_Keyword_33', 'Medical_Keyword_34', 'Medical_Keyword_35',\n",
       "       'Medical_Keyword_36', 'Medical_Keyword_37', 'Medical_Keyword_38',\n",
       "       'Medical_Keyword_39', 'Medical_Keyword_40', 'Medical_Keyword_41',\n",
       "       'Medical_Keyword_42', 'Medical_Keyword_43', 'Medical_Keyword_44',\n",
       "       'Medical_Keyword_45', 'Medical_Keyword_46', 'Medical_Keyword_47'],\n",
       "      dtype=object)"
      ]
     },
     "execution_count": 96,
     "metadata": {},
     "output_type": "execute_result"
    }
   ],
   "source": [
    "vif_data['feature'].values"
   ]
  },
  {
   "cell_type": "code",
   "execution_count": 97,
   "metadata": {},
   "outputs": [],
   "source": [
    "X=X[list(vif_data['feature'].values)]\n"
   ]
  },
  {
   "cell_type": "code",
   "execution_count": 98,
   "metadata": {},
   "outputs": [
    {
     "data": {
      "text/plain": [
       "Index(['Product_Info_1', 'Product_Info_3', 'Product_Info_4', 'Product_Info_5',\n",
       "       'Product_Info_6', 'Product_Info_7', 'Ins_Age', 'Employment_Info_1',\n",
       "       'Employment_Info_2', 'Employment_Info_3', 'Employment_Info_4',\n",
       "       'Employment_Info_5', 'Employment_Info_6', 'InsuredInfo_1',\n",
       "       'InsuredInfo_2', 'InsuredInfo_3', 'InsuredInfo_4', 'InsuredInfo_5',\n",
       "       'InsuredInfo_6', 'InsuredInfo_7', 'Insurance_History_2',\n",
       "       'Family_Hist_1', 'Medical_History_1', 'Medical_History_2',\n",
       "       'Medical_History_3', 'Medical_History_4', 'Medical_History_5',\n",
       "       'Medical_History_7', 'Medical_History_8', 'Medical_History_9',\n",
       "       'Medical_History_11', 'Medical_History_12', 'Medical_History_14',\n",
       "       'Medical_History_16', 'Medical_History_17', 'Medical_History_18',\n",
       "       'Medical_History_19', 'Medical_History_20', 'Medical_History_21',\n",
       "       'Medical_History_22', 'Medical_History_27', 'Medical_History_28',\n",
       "       'Medical_History_29', 'Medical_History_30', 'Medical_History_31',\n",
       "       'Medical_History_34', 'Medical_History_35', 'Medical_History_38',\n",
       "       'Medical_History_39', 'Medical_History_40', 'Medical_History_41',\n",
       "       'Medical_Keyword_1', 'Medical_Keyword_2', 'Medical_Keyword_3',\n",
       "       'Medical_Keyword_4', 'Medical_Keyword_5', 'Medical_Keyword_6',\n",
       "       'Medical_Keyword_7', 'Medical_Keyword_8', 'Medical_Keyword_9',\n",
       "       'Medical_Keyword_10', 'Medical_Keyword_12', 'Medical_Keyword_13',\n",
       "       'Medical_Keyword_14', 'Medical_Keyword_16', 'Medical_Keyword_17',\n",
       "       'Medical_Keyword_18', 'Medical_Keyword_19', 'Medical_Keyword_20',\n",
       "       'Medical_Keyword_21', 'Medical_Keyword_22', 'Medical_Keyword_24',\n",
       "       'Medical_Keyword_25', 'Medical_Keyword_26', 'Medical_Keyword_27',\n",
       "       'Medical_Keyword_28', 'Medical_Keyword_29', 'Medical_Keyword_30',\n",
       "       'Medical_Keyword_31', 'Medical_Keyword_32', 'Medical_Keyword_33',\n",
       "       'Medical_Keyword_34', 'Medical_Keyword_35', 'Medical_Keyword_36',\n",
       "       'Medical_Keyword_37', 'Medical_Keyword_38', 'Medical_Keyword_39',\n",
       "       'Medical_Keyword_40', 'Medical_Keyword_41', 'Medical_Keyword_42',\n",
       "       'Medical_Keyword_43', 'Medical_Keyword_44', 'Medical_Keyword_45',\n",
       "       'Medical_Keyword_46', 'Medical_Keyword_47'],\n",
       "      dtype='object')"
      ]
     },
     "execution_count": 98,
     "metadata": {},
     "output_type": "execute_result"
    }
   ],
   "source": [
    "X.columns"
   ]
  },
  {
   "cell_type": "code",
   "execution_count": 99,
   "metadata": {},
   "outputs": [],
   "source": [
    "y=data['Response']"
   ]
  },
  {
   "cell_type": "code",
   "execution_count": 100,
   "metadata": {},
   "outputs": [
    {
     "name": "stdout",
     "output_type": "stream",
     "text": [
      "Shape of X is : (59381, 95)\n",
      "Shape of y is : (59381,)\n"
     ]
    }
   ],
   "source": [
    "print('Shape of X is :', X.shape)\n",
    "print('Shape of y is :',y.shape)"
   ]
  },
  {
   "cell_type": "markdown",
   "metadata": {},
   "source": [
    "## Split Data in Train Test"
   ]
  },
  {
   "cell_type": "code",
   "execution_count": 101,
   "metadata": {},
   "outputs": [],
   "source": [
    "#splitting the data into 80% train and 20% test\n",
    "\n",
    "\n",
    "X_train, X_test, y_train, y_test=split(X,y)"
   ]
  },
  {
   "cell_type": "code",
   "execution_count": 102,
   "metadata": {},
   "outputs": [
    {
     "name": "stdout",
     "output_type": "stream",
     "text": [
      "Shape of X is : (59381, 95)\n",
      "Shape of y is : (59381,)\n"
     ]
    }
   ],
   "source": [
    "print('Shape of X is :', X.shape)\n",
    "print('Shape of y is :',y.shape)"
   ]
  },
  {
   "cell_type": "code",
   "execution_count": 103,
   "metadata": {},
   "outputs": [
    {
     "name": "stdout",
     "output_type": "stream",
     "text": [
      "Shape of X_train is : (47504, 95)\n",
      "Shape of y_train is : (47504,)\n",
      "Shape of X_test is : (11877, 95)\n",
      "Shape of y_test is : (11877,)\n"
     ]
    }
   ],
   "source": [
    "print('Shape of X_train is :', X_train.shape)\n",
    "print('Shape of y_train is :',y_train.shape)\n",
    "print('Shape of X_test is :', X_test.shape)\n",
    "print('Shape of y_test is :',y_test.shape)"
   ]
  },
  {
   "cell_type": "code",
   "execution_count": 104,
   "metadata": {},
   "outputs": [
    {
     "name": "stdout",
     "output_type": "stream",
     "text": [
      "y train unique values  [5 8 6 1 7 2 4 3]\n",
      "y test unique values  [8 6 2 5 1 7 3 4]\n"
     ]
    }
   ],
   "source": [
    "# check if the train data covers all classes\n",
    "print(\"y train unique values \" ,  y_train.unique())\n",
    "print(\"y test unique values \" , y_test.unique())"
   ]
  },
  {
   "cell_type": "code",
   "execution_count": 105,
   "metadata": {},
   "outputs": [],
   "source": [
    "from sklearn.metrics import accuracy_score,confusion_matrix\n",
    "from sklearn.model_selection import cross_val_score,GridSearchCV\n"
   ]
  },
  {
   "cell_type": "markdown",
   "metadata": {},
   "source": [
    "### Model 1 - Decision Tree"
   ]
  },
  {
   "cell_type": "code",
   "execution_count": 106,
   "metadata": {},
   "outputs": [],
   "source": [
    "# Using a Decision Tree classifier without any attributes\n",
    "from sklearn.tree import DecisionTreeClassifier\n",
    "DT1=DecisionTreeClassifier()\n",
    "model_DT1=DT1.fit(X_train,y_train)\n",
    "y_pred=model_DT1.predict(X_test)"
   ]
  },
  {
   "cell_type": "code",
   "execution_count": 107,
   "metadata": {},
   "outputs": [
    {
     "name": "stdout",
     "output_type": "stream",
     "text": [
      "Accuracy with all default:  0.3035278268923129\n"
     ]
    }
   ],
   "source": [
    "dt_acc=accuracy_score(y_test,y_pred)\n",
    "print(\"Accuracy with all default: \" , dt_acc)\n",
    "results_approach3 = pd.DataFrame()"
   ]
  },
  {
   "cell_type": "code",
   "execution_count": 108,
   "metadata": {},
   "outputs": [
    {
     "data": {
      "text/html": [
       "<div>\n",
       "<style scoped>\n",
       "    .dataframe tbody tr th:only-of-type {\n",
       "        vertical-align: middle;\n",
       "    }\n",
       "\n",
       "    .dataframe tbody tr th {\n",
       "        vertical-align: top;\n",
       "    }\n",
       "\n",
       "    .dataframe thead th {\n",
       "        text-align: right;\n",
       "    }\n",
       "</style>\n",
       "<table border=\"1\" class=\"dataframe\">\n",
       "  <thead>\n",
       "    <tr style=\"text-align: right;\">\n",
       "      <th></th>\n",
       "      <th>Algorithm</th>\n",
       "      <th>Accuracy</th>\n",
       "    </tr>\n",
       "  </thead>\n",
       "  <tbody>\n",
       "    <tr>\n",
       "      <th>0</th>\n",
       "      <td>Decision Tree Method with default values</td>\n",
       "      <td>0.303528</td>\n",
       "    </tr>\n",
       "  </tbody>\n",
       "</table>\n",
       "</div>"
      ],
      "text/plain": [
       "                                  Algorithm  Accuracy\n",
       "0  Decision Tree Method with default values  0.303528"
      ]
     },
     "execution_count": 108,
     "metadata": {},
     "output_type": "execute_result"
    }
   ],
   "source": [
    "tempResults = pd.DataFrame({'Algorithm':['Decision Tree Method with default values'], 'Accuracy':[dt_acc]})\n",
    "results_approach3 = pd.concat( [results_approach3, tempResults] )\n",
    "results_approach3 = results_approach3[['Algorithm','Accuracy']]\n",
    "results_approach3"
   ]
  },
  {
   "cell_type": "markdown",
   "metadata": {},
   "source": [
    "#### Hypertuning parameters"
   ]
  },
  {
   "cell_type": "code",
   "execution_count": 109,
   "metadata": {},
   "outputs": [
    {
     "name": "stdout",
     "output_type": "stream",
     "text": [
      "Accuracy with Entropy and max_dept=10 :  0.4198029805506441\n"
     ]
    }
   ],
   "source": [
    "# Using a Decision Tree classifier with Random_state, Criterion , max_depth\n",
    "from sklearn.tree import DecisionTreeClassifier\n",
    "DT2=DecisionTreeClassifier(random_state = 0, criterion='entropy', max_depth=10)\n",
    "model_DT2=DT2.fit(X_train,y_train)\n",
    "y_pred=model_DT2.predict(X_test)\n",
    "\n",
    "dt_acc_hp1=accuracy_score(y_test,y_pred)\n",
    "print(\"Accuracy with Entropy and max_dept=10 : \" ,dt_acc_hp1)"
   ]
  },
  {
   "cell_type": "code",
   "execution_count": 110,
   "metadata": {},
   "outputs": [
    {
     "data": {
      "text/html": [
       "<div>\n",
       "<style scoped>\n",
       "    .dataframe tbody tr th:only-of-type {\n",
       "        vertical-align: middle;\n",
       "    }\n",
       "\n",
       "    .dataframe tbody tr th {\n",
       "        vertical-align: top;\n",
       "    }\n",
       "\n",
       "    .dataframe thead th {\n",
       "        text-align: right;\n",
       "    }\n",
       "</style>\n",
       "<table border=\"1\" class=\"dataframe\">\n",
       "  <thead>\n",
       "    <tr style=\"text-align: right;\">\n",
       "      <th></th>\n",
       "      <th>Algorithm</th>\n",
       "      <th>Accuracy</th>\n",
       "    </tr>\n",
       "  </thead>\n",
       "  <tbody>\n",
       "    <tr>\n",
       "      <th>0</th>\n",
       "      <td>Decision Tree Method with default values</td>\n",
       "      <td>0.303528</td>\n",
       "    </tr>\n",
       "    <tr>\n",
       "      <th>0</th>\n",
       "      <td>Decision Tree with Hypertuning</td>\n",
       "      <td>0.419803</td>\n",
       "    </tr>\n",
       "  </tbody>\n",
       "</table>\n",
       "</div>"
      ],
      "text/plain": [
       "                                  Algorithm  Accuracy\n",
       "0  Decision Tree Method with default values  0.303528\n",
       "0            Decision Tree with Hypertuning  0.419803"
      ]
     },
     "execution_count": 110,
     "metadata": {},
     "output_type": "execute_result"
    }
   ],
   "source": [
    "tempResults = pd.DataFrame({'Algorithm':['Decision Tree with Hypertuning'], 'Accuracy':[dt_acc_hp1]})\n",
    "results_approach3 = pd.concat( [results_approach3, tempResults] )\n",
    "results_approach3 = results_approach3[['Algorithm','Accuracy']]\n",
    "results_approach3"
   ]
  },
  {
   "cell_type": "markdown",
   "metadata": {},
   "source": [
    "## Model 2 - Decision Tree Classifier with GridSearchCV"
   ]
  },
  {
   "cell_type": "code",
   "execution_count": 111,
   "metadata": {},
   "outputs": [
    {
     "name": "stdout",
     "output_type": "stream",
     "text": [
      "Accuracy with GridSearchCV:  0.42258145996463753\n"
     ]
    }
   ],
   "source": [
    "# Using a Decision Tree classifier with GridSearchCV\n",
    "from sklearn.tree import DecisionTreeClassifier\n",
    "param_grid={'max_depth':range(1,20,2)}\n",
    "DT=DecisionTreeClassifier()\n",
    "clf_DT=GridSearchCV(DT,param_grid,cv=10,scoring='accuracy',n_jobs=-1).fit(X_train,y_train)\n",
    "model_DT=clf_DT.fit(X_train,y_train)\n",
    "y_pred=model_DT.predict(X_test)\n",
    "dt_acc_grid=accuracy_score(y_test,y_pred)\n",
    "print(\"Accuracy with GridSearchCV: \" ,dt_acc_grid)"
   ]
  },
  {
   "cell_type": "code",
   "execution_count": 112,
   "metadata": {},
   "outputs": [
    {
     "data": {
      "text/html": [
       "<div>\n",
       "<style scoped>\n",
       "    .dataframe tbody tr th:only-of-type {\n",
       "        vertical-align: middle;\n",
       "    }\n",
       "\n",
       "    .dataframe tbody tr th {\n",
       "        vertical-align: top;\n",
       "    }\n",
       "\n",
       "    .dataframe thead th {\n",
       "        text-align: right;\n",
       "    }\n",
       "</style>\n",
       "<table border=\"1\" class=\"dataframe\">\n",
       "  <thead>\n",
       "    <tr style=\"text-align: right;\">\n",
       "      <th></th>\n",
       "      <th>Algorithm</th>\n",
       "      <th>Accuracy</th>\n",
       "    </tr>\n",
       "  </thead>\n",
       "  <tbody>\n",
       "    <tr>\n",
       "      <th>0</th>\n",
       "      <td>Decision Tree Method with default values</td>\n",
       "      <td>0.303528</td>\n",
       "    </tr>\n",
       "    <tr>\n",
       "      <th>0</th>\n",
       "      <td>Decision Tree with Hypertuning</td>\n",
       "      <td>0.419803</td>\n",
       "    </tr>\n",
       "    <tr>\n",
       "      <th>0</th>\n",
       "      <td>Decision Tree with GridSearchCV</td>\n",
       "      <td>0.422581</td>\n",
       "    </tr>\n",
       "  </tbody>\n",
       "</table>\n",
       "</div>"
      ],
      "text/plain": [
       "                                  Algorithm  Accuracy\n",
       "0  Decision Tree Method with default values  0.303528\n",
       "0            Decision Tree with Hypertuning  0.419803\n",
       "0           Decision Tree with GridSearchCV  0.422581"
      ]
     },
     "execution_count": 112,
     "metadata": {},
     "output_type": "execute_result"
    }
   ],
   "source": [
    "tempResults = pd.DataFrame({'Algorithm':['Decision Tree with GridSearchCV'], 'Accuracy':[dt_acc_grid]})\n",
    "results_approach3 = pd.concat( [results_approach3, tempResults] )\n",
    "results_approach3 = results_approach3[['Algorithm','Accuracy']]\n",
    "results_approach3"
   ]
  },
  {
   "cell_type": "markdown",
   "metadata": {},
   "source": [
    "### Model 3 - Logistic Regression"
   ]
  },
  {
   "cell_type": "code",
   "execution_count": 113,
   "metadata": {},
   "outputs": [
    {
     "name": "stdout",
     "output_type": "stream",
     "text": [
      "Accuracy score for the Logistic model: 0.3338385114086049\n"
     ]
    }
   ],
   "source": [
    "from sklearn.linear_model import LogisticRegression\n",
    "logis = LogisticRegression()\n",
    "logis.fit(X_train, y_train)\n",
    "y_pred = logis.predict(X_test)\n",
    "logit_accuracy = accuracy_score(y_test,y_pred)\n",
    "print('Accuracy score for the Logistic model:', logit_accuracy)"
   ]
  },
  {
   "cell_type": "code",
   "execution_count": 114,
   "metadata": {},
   "outputs": [
    {
     "name": "stdout",
     "output_type": "stream",
     "text": [
      "Accuracy score for the Logistic model: 0.3386377031236844\n"
     ]
    }
   ],
   "source": [
    "from sklearn.linear_model import LogisticRegression\n",
    "logis = LogisticRegression(penalty=\"none\")\n",
    "logis.fit(X_train, y_train)\n",
    "y_pred = logis.predict(X_test)\n",
    "logit_accuracy = accuracy_score(y_test,y_pred)\n",
    "print('Accuracy score for the Logistic model:', logit_accuracy)"
   ]
  },
  {
   "cell_type": "code",
   "execution_count": 115,
   "metadata": {},
   "outputs": [
    {
     "data": {
      "text/html": [
       "<div>\n",
       "<style scoped>\n",
       "    .dataframe tbody tr th:only-of-type {\n",
       "        vertical-align: middle;\n",
       "    }\n",
       "\n",
       "    .dataframe tbody tr th {\n",
       "        vertical-align: top;\n",
       "    }\n",
       "\n",
       "    .dataframe thead th {\n",
       "        text-align: right;\n",
       "    }\n",
       "</style>\n",
       "<table border=\"1\" class=\"dataframe\">\n",
       "  <thead>\n",
       "    <tr style=\"text-align: right;\">\n",
       "      <th></th>\n",
       "      <th>Algorithm</th>\n",
       "      <th>Accuracy</th>\n",
       "    </tr>\n",
       "  </thead>\n",
       "  <tbody>\n",
       "    <tr>\n",
       "      <th>0</th>\n",
       "      <td>Decision Tree Method with default values</td>\n",
       "      <td>0.303528</td>\n",
       "    </tr>\n",
       "    <tr>\n",
       "      <th>0</th>\n",
       "      <td>Decision Tree with Hypertuning</td>\n",
       "      <td>0.419803</td>\n",
       "    </tr>\n",
       "    <tr>\n",
       "      <th>0</th>\n",
       "      <td>Decision Tree with GridSearchCV</td>\n",
       "      <td>0.422581</td>\n",
       "    </tr>\n",
       "    <tr>\n",
       "      <th>0</th>\n",
       "      <td>Logistic Regression</td>\n",
       "      <td>0.338638</td>\n",
       "    </tr>\n",
       "  </tbody>\n",
       "</table>\n",
       "</div>"
      ],
      "text/plain": [
       "                                  Algorithm  Accuracy\n",
       "0  Decision Tree Method with default values  0.303528\n",
       "0            Decision Tree with Hypertuning  0.419803\n",
       "0           Decision Tree with GridSearchCV  0.422581\n",
       "0                       Logistic Regression  0.338638"
      ]
     },
     "execution_count": 115,
     "metadata": {},
     "output_type": "execute_result"
    }
   ],
   "source": [
    "tempResults = pd.DataFrame({'Algorithm':['Logistic Regression'], 'Accuracy':[logit_accuracy]})\n",
    "results_approach3 = pd.concat( [results_approach3, tempResults] )\n",
    "results_approach3 = results_approach3[['Algorithm','Accuracy']]\n",
    "results_approach3"
   ]
  },
  {
   "cell_type": "markdown",
   "metadata": {},
   "source": [
    "### Model 3 - Random Forest Classifier"
   ]
  },
  {
   "cell_type": "code",
   "execution_count": 116,
   "metadata": {},
   "outputs": [],
   "source": [
    "from sklearn.ensemble import RandomForestClassifier\n",
    "model1 = RandomForestClassifier(random_state = 0)"
   ]
  },
  {
   "cell_type": "code",
   "execution_count": 117,
   "metadata": {},
   "outputs": [],
   "source": [
    "model2 = RandomForestClassifier(criterion='entropy',\n",
    "                                n_estimators=6,\n",
    "                                random_state = 0,\n",
    "                                max_depth=3,\n",
    "                                min_samples_split=5,\n",
    "                                min_samples_leaf=4,\n",
    "                                max_leaf_nodes=5,\n",
    "                                n_jobs=-1,\n",
    "                                )"
   ]
  },
  {
   "cell_type": "code",
   "execution_count": 118,
   "metadata": {},
   "outputs": [],
   "source": [
    "model1.fit(X_train,y_train)\n",
    "prediction1 = pd.DataFrame()\n",
    "prediction1 = model1.predict(X_test)"
   ]
  },
  {
   "cell_type": "code",
   "execution_count": 119,
   "metadata": {},
   "outputs": [],
   "source": [
    "model2.fit(X_train,y_train)\n",
    "prediction2 = pd.DataFrame()\n",
    "prediction2 = model2.predict(X_test)"
   ]
  },
  {
   "cell_type": "code",
   "execution_count": 120,
   "metadata": {},
   "outputs": [
    {
     "name": "stdout",
     "output_type": "stream",
     "text": [
      "Accuracy score for test data with model 1 is: 0.4395049254862339\n",
      "Accuracy score for test data with model 2 is: 0.35455081249473774\n"
     ]
    }
   ],
   "source": [
    "from sklearn.metrics import accuracy_score\n",
    "print('Accuracy score for test data with model 1 is:',accuracy_score(y_test, prediction1))\n",
    "print('Accuracy score for test data with model 2 is:',accuracy_score(y_test, prediction2))"
   ]
  },
  {
   "cell_type": "code",
   "execution_count": 121,
   "metadata": {},
   "outputs": [
    {
     "data": {
      "text/html": [
       "<div>\n",
       "<style scoped>\n",
       "    .dataframe tbody tr th:only-of-type {\n",
       "        vertical-align: middle;\n",
       "    }\n",
       "\n",
       "    .dataframe tbody tr th {\n",
       "        vertical-align: top;\n",
       "    }\n",
       "\n",
       "    .dataframe thead th {\n",
       "        text-align: right;\n",
       "    }\n",
       "</style>\n",
       "<table border=\"1\" class=\"dataframe\">\n",
       "  <thead>\n",
       "    <tr style=\"text-align: right;\">\n",
       "      <th></th>\n",
       "      <th>Algorithm</th>\n",
       "      <th>Accuracy</th>\n",
       "    </tr>\n",
       "  </thead>\n",
       "  <tbody>\n",
       "    <tr>\n",
       "      <th>0</th>\n",
       "      <td>Decision Tree Method with default values</td>\n",
       "      <td>0.303528</td>\n",
       "    </tr>\n",
       "    <tr>\n",
       "      <th>0</th>\n",
       "      <td>Decision Tree with Hypertuning</td>\n",
       "      <td>0.419803</td>\n",
       "    </tr>\n",
       "    <tr>\n",
       "      <th>0</th>\n",
       "      <td>Decision Tree with GridSearchCV</td>\n",
       "      <td>0.422581</td>\n",
       "    </tr>\n",
       "    <tr>\n",
       "      <th>0</th>\n",
       "      <td>Logistic Regression</td>\n",
       "      <td>0.338638</td>\n",
       "    </tr>\n",
       "    <tr>\n",
       "      <th>0</th>\n",
       "      <td>Random Forest Classifier</td>\n",
       "      <td>0.439505</td>\n",
       "    </tr>\n",
       "  </tbody>\n",
       "</table>\n",
       "</div>"
      ],
      "text/plain": [
       "                                  Algorithm  Accuracy\n",
       "0  Decision Tree Method with default values  0.303528\n",
       "0            Decision Tree with Hypertuning  0.419803\n",
       "0           Decision Tree with GridSearchCV  0.422581\n",
       "0                       Logistic Regression  0.338638\n",
       "0                  Random Forest Classifier  0.439505"
      ]
     },
     "execution_count": 121,
     "metadata": {},
     "output_type": "execute_result"
    }
   ],
   "source": [
    "tempResults = pd.DataFrame({'Algorithm':['Random Forest Classifier'], 'Accuracy':accuracy_score(y_test, prediction1)})\n",
    "results_approach3 = pd.concat( [results_approach3, tempResults] )\n",
    "results_approach3 = results_approach3[['Algorithm','Accuracy']]\n",
    "results_approach3"
   ]
  },
  {
   "cell_type": "code",
   "execution_count": 122,
   "metadata": {},
   "outputs": [
    {
     "name": "stdout",
     "output_type": "stream",
     "text": [
      "Confusion matrix for test data with model 1 is:\n",
      " [[ 322  158    3    4   58  315   62  338]\n",
      " [ 162  206    1   10   64  334   75  438]\n",
      " [  16   11   11    8   23  110    2   45]\n",
      " [  10    4    4   18    3  137    5   78]\n",
      " [  58   68    8    4  233  237   47  444]\n",
      " [ 130  102    1    7    3 1056  128  828]\n",
      " [  57   22    1    6    1  310  183 1032]\n",
      " [  48   33    1    3    6  430  164 3191]]\n",
      "Confusion matrix for test data with model 2 is:\n",
      " [[  13    5    0    0   41  185    0 1016]\n",
      " [   6   13    0    0   41  189    0 1041]\n",
      " [   0    1    0    0   10   44    0  171]\n",
      " [   0    0    0    0    0   47    0  212]\n",
      " [   2    4    0    0   83  121    0  889]\n",
      " [   5    0    0    0    0  319    0 1931]\n",
      " [   0    0    0    0    0  116    0 1496]\n",
      " [   0    0    0    0    0   93    0 3783]]\n"
     ]
    }
   ],
   "source": [
    "from sklearn.metrics import confusion_matrix\n",
    "print('Confusion matrix for test data with model 1 is:\\n',confusion_matrix(y_test, prediction1))\n",
    "print('Confusion matrix for test data with model 2 is:\\n',confusion_matrix(y_test, prediction2))"
   ]
  },
  {
   "cell_type": "code",
   "execution_count": 123,
   "metadata": {},
   "outputs": [
    {
     "name": "stdout",
     "output_type": "stream",
     "text": [
      "F1_score for test data using model1 is: 0.4395049254862339\n",
      "F1_score for test data using model2 is: 0.35455081249473774\n"
     ]
    }
   ],
   "source": [
    "from sklearn.metrics import f1_score\n",
    "print('F1_score for test data using model1 is:',f1_score(y_test, prediction1,average='micro'))\n",
    "print('F1_score for test data using model2 is:',f1_score(y_test, prediction2, average='micro'))"
   ]
  },
  {
   "cell_type": "code",
   "execution_count": 124,
   "metadata": {},
   "outputs": [
    {
     "name": "stdout",
     "output_type": "stream",
     "text": [
      "Precision score for test data using model1 is: 0.4395049254862339\n",
      "Precision score for test data using model2 is: 0.35455081249473774\n"
     ]
    }
   ],
   "source": [
    "from sklearn.metrics import precision_score\n",
    "precision1 = precision_score(y_test,prediction1,average='micro')\n",
    "print('Precision score for test data using model1 is:', precision1)\n",
    "precision2 = precision_score(y_test,prediction2,average='micro')\n",
    "print('Precision score for test data using model2 is:', precision2)"
   ]
  },
  {
   "cell_type": "code",
   "execution_count": 125,
   "metadata": {
    "scrolled": true
   },
   "outputs": [
    {
     "name": "stdout",
     "output_type": "stream",
     "text": [
      "              precision    recall  f1-score   support\n",
      "\n",
      "           1       0.50      0.01      0.02      1260\n",
      "           2       0.57      0.01      0.02      1290\n",
      "           3       0.00      0.00      0.00       226\n",
      "           4       0.00      0.00      0.00       259\n",
      "           5       0.47      0.08      0.13      1099\n",
      "           6       0.29      0.14      0.19      2255\n",
      "           7       0.00      0.00      0.00      1612\n",
      "           8       0.36      0.98      0.52      3876\n",
      "\n",
      "    accuracy                           0.35     11877\n",
      "   macro avg       0.27      0.15      0.11     11877\n",
      "weighted avg       0.33      0.35      0.22     11877\n",
      "\n"
     ]
    }
   ],
   "source": [
    "from sklearn.metrics import classification_report\n",
    "print(classification_report(y_test,prediction2))"
   ]
  },
  {
   "cell_type": "markdown",
   "metadata": {},
   "source": [
    "### End of Model development based on Approach 3"
   ]
  },
  {
   "cell_type": "markdown",
   "metadata": {},
   "source": [
    "## Summarizing Accuracy scores for all 3 Approaches and various models for each of the approach"
   ]
  },
  {
   "cell_type": "code",
   "execution_count": 126,
   "metadata": {},
   "outputs": [
    {
     "name": "stdout",
     "output_type": "stream",
     "text": [
      "Approach 1 - Considering all the given features \n",
      "\n",
      "                                  Algorithm  Accuracy\n",
      "0  Decision Tree Method with default values  0.397659\n",
      "0            Decision Tree with Hypertuning  0.511240\n",
      "0           Decision Tree with GridSearchCV  0.514271\n",
      "0                       Logistic Regression  0.355477\n",
      "0                  Random Forest Classifier  0.530858 \n",
      "\n",
      "\n",
      "\n",
      "Approach 2 - Features selection based on high co-relation with Target variables \n",
      "\n",
      "                                  Algorithm  Accuracy\n",
      "0  Decision Tree Method with default values  0.366675\n",
      "0            Decision Tree with Hypertuning  0.505852\n",
      "0           Decision Tree with GridSearchCV  0.507367\n",
      "0                       Logistic Regression  0.455250\n",
      "0                  Random Forest Classifier  0.465606 \n",
      "\n",
      "\n",
      "\n",
      "Approach 3 - Features selection based on VIF \n",
      "\n",
      "                                  Algorithm  Accuracy\n",
      "0  Decision Tree Method with default values  0.303528\n",
      "0            Decision Tree with Hypertuning  0.419803\n",
      "0           Decision Tree with GridSearchCV  0.422581\n",
      "0                       Logistic Regression  0.338638\n",
      "0                  Random Forest Classifier  0.439505 \n",
      "\n",
      "\n",
      "\n"
     ]
    }
   ],
   "source": [
    "print(\"Approach 1 - Considering all the given features \\n\")\n",
    "print(results,\"\\n\\n\\n\") \n",
    "\n",
    "print(\"Approach 2 - Features selection based on high co-relation with Target variables \\n\")\n",
    "print(results_approach2,\"\\n\\n\\n\")\n",
    "\n",
    "print(\"Approach 3 - Features selection based on VIF \\n\")\n",
    "print(results_approach3,\"\\n\\n\\n\")"
   ]
  },
  {
   "cell_type": "markdown",
   "metadata": {},
   "source": [
    "### Business Interpretion and Conclusion\n",
    "<a id=\"conclude\"></a> "
   ]
  },
  {
   "cell_type": "markdown",
   "metadata": {},
   "source": [
    "All 3 approoaches and various ML algorithm for each approach did not result in the best of the ML model with with high evaluation scores possibly due to lack of important information \n",
    "\n",
    "It can be concluded that basic feature engineering and basic ML model will not help with accurate risk classifiation. \n",
    "\n",
    "<br> <b>Hence, next Steps that should be</b><br>\n",
    "1. Apply more advance techniques for Feature Engineering\n",
    "2. Build models using Advance Machine learning algorithms\n",
    "3. Adding more data samples or by creating features in the dataset \n"
   ]
  },
  {
   "cell_type": "code",
   "execution_count": null,
   "metadata": {},
   "outputs": [],
   "source": []
  }
 ],
 "metadata": {
  "kernelspec": {
   "display_name": "Python 3",
   "language": "python",
   "name": "python3"
  },
  "language_info": {
   "codemirror_mode": {
    "name": "ipython",
    "version": 3
   },
   "file_extension": ".py",
   "mimetype": "text/x-python",
   "name": "python",
   "nbconvert_exporter": "python",
   "pygments_lexer": "ipython3",
   "version": "3.8.3"
  }
 },
 "nbformat": 4,
 "nbformat_minor": 4
}
